{
 "cells": [
  {
   "cell_type": "markdown",
   "id": "ea4e15d7-1fc9-40d8-a0d0-cecb59ce3b42",
   "metadata": {},
   "source": [
    "Python: Za hranice základů\n",
    "---\n"
   ]
  },
  {
   "cell_type": "markdown",
   "id": "11d19227-963b-4b65-944f-e49221221d32",
   "metadata": {},
   "source": [
    "4. Vychytávky (23.10.2023)"
   ]
  },
  {
   "cell_type": "markdown",
   "id": "0cc378a2-2356-482c-bee0-910389945d4e",
   "metadata": {},
   "source": [
    "# Vychytávky"
   ]
  },
  {
   "cell_type": "markdown",
   "id": "529c3fd8-ea77-4f17-9027-085c7344241f",
   "metadata": {},
   "source": [
    "### Pojmenovaná n-tice (`namedtuple`)"
   ]
  },
  {
   "cell_type": "markdown",
   "id": "78babf55-4ad8-43a3-b6e4-ce9d05a19ec2",
   "metadata": {},
   "source": [
    "Pro jednoduché ustálené struktury (např. souřadnice bodu) může být použita pojmenovaná n-tice, které při vytvoření definujeme název a strukturu."
   ]
  },
  {
   "cell_type": "code",
   "execution_count": null,
   "id": "4d53de6a-00b2-4a8c-bc6e-fd0dd09dcde3",
   "metadata": {},
   "outputs": [],
   "source": [
    "from collections import namedtuple\n",
    "\n",
    "Rozmer = namedtuple('Rozmer', ['vyska', 'sirka'])\n",
    "list_a4 = Rozmer(vyska=297, sirka=210)"
   ]
  },
  {
   "cell_type": "markdown",
   "id": "0c186456-839b-45e9-882a-5bf28c64d571",
   "metadata": {},
   "source": [
    "*velké písmeno je skutečně správně, v podstatě se jedná o zjednodušenou třídu"
   ]
  },
  {
   "cell_type": "markdown",
   "id": "22bec361-06c6-4a0c-a946-b5d85fe8525a",
   "metadata": {},
   "source": [
    "K hodnotám můžeme přistupovat různými způsoby."
   ]
  },
  {
   "cell_type": "markdown",
   "id": "6cf89dbe-796e-4258-8691-9d7dc2202ad3",
   "metadata": {},
   "source": [
    "- pomocí indexu"
   ]
  },
  {
   "cell_type": "code",
   "execution_count": null,
   "id": "ab189443-ffc9-4a95-af1d-083a734fbfb7",
   "metadata": {},
   "outputs": [],
   "source": [
    "# list_a4[i]\n",
    "\n",
    "print(f'Výška: {list_a4[0]} mm')\n",
    "print(f'Šířka: {list_a4[1]} mm')"
   ]
  },
  {
   "cell_type": "markdown",
   "id": "faa067ab-0143-4336-896a-cd21b92c47c3",
   "metadata": {},
   "source": [
    "- pomocí jména"
   ]
  },
  {
   "cell_type": "code",
   "execution_count": null,
   "id": "2d42480b-b7d0-4c5e-9f60-9ef87616baf6",
   "metadata": {},
   "outputs": [],
   "source": [
    "# list_a4.jmeno_parametru\n",
    "\n",
    "print(f'Výška: {list_a4.vyska} mm')\n",
    "print(f'Šířka: {list_a4.sirka} mm')"
   ]
  },
  {
   "cell_type": "markdown",
   "id": "9e18521f-71b9-4510-9051-19f67f130d5f",
   "metadata": {},
   "source": [
    "- pomocí rozbalení"
   ]
  },
  {
   "cell_type": "code",
   "execution_count": null,
   "id": "a74a4f36-ea72-4298-a7d5-44b6c3f6ad13",
   "metadata": {},
   "outputs": [],
   "source": [
    "# vyska, sirka = list_a4\n",
    "\n",
    "vyska, sirka = list_a4\n",
    "print(f'Výška: {vyska} mm')\n",
    "print(f'Šířka: {sirka} mm')"
   ]
  },
  {
   "cell_type": "markdown",
   "id": "586d966c-dcb8-491c-b6bc-2ec429c0070a",
   "metadata": {},
   "source": [
    "#### Příklad"
   ]
  },
  {
   "cell_type": "markdown",
   "id": "37a1fd70-e46b-408e-aea1-2a239e88e33b",
   "metadata": {},
   "source": [
    "- vytvořte pojmenovanou n-tici s název `Mereni`, která bude obsahovat `minimum`, `prumer` a `maximum`\n",
    "- do n-tice uložte uvedené hodnoty (můžete využít funkci `zip`) a n-tice ukládejte do slovníku; jako klíč použijte pořadí měření\n",
    "- napište jednoduchou funkcionalitu, která vypíše pro každou n-tici ze seznamu na jednom řádku uložené hodnoty"
   ]
  },
  {
   "cell_type": "markdown",
   "id": "a6bd23f2-303e-4283-8509-2cb6187c9b70",
   "metadata": {},
   "source": [
    "- ukázka očekávaného výstupu"
   ]
  },
  {
   "cell_type": "raw",
   "id": "a153f21c-bac8-4f4e-bb52-56db839ca9c3",
   "metadata": {},
   "source": [
    "Měření č. 1 - minumum: 1, průměr: 4, maximum: 8\n",
    "Měření č. 2 - minumum: 3, průměr: 3, maximum: 4\n",
    "Měření č. 3 - minumum: 6, průměr: 9, maximum: 8\n",
    "..."
   ]
  },
  {
   "cell_type": "markdown",
   "id": "f1dd8980-a948-4155-8ac0-0c70ac712bf2",
   "metadata": {},
   "source": [
    "- vstupní hodnoty"
   ]
  },
  {
   "cell_type": "code",
   "execution_count": null,
   "id": "c22300d0-bc0f-4eb9-a69b-48f1c875ba60",
   "metadata": {},
   "outputs": [],
   "source": [
    "minimum = [1, 3, 6, 6, 2, 7, 9, 1, 10, 8]\n",
    "prumer = [4, 3, 9, 23, 4, 9, 14, 3, 12, 9]\n",
    "maximum = [8, 4, 8, 27, 8, 12, 31, 8, 23, 10]\n",
    "\n",
    "class LenghtError(BaseException):\n",
    "    pass"
   ]
  },
  {
   "cell_type": "code",
   "execution_count": null,
   "id": "3300655e-e848-4e39-abda-979f52d730b7",
   "metadata": {},
   "outputs": [],
   "source": [
    "from collections import namedtuple\n",
    "\n",
    "hodnoty_mereni = {}\n",
    "... # zde chybí vytvoření pojmenovaná n-tice\n",
    "if not (len(minimum) == len(prumer) and len(prumer) == len(maximum)):\n",
    "    raise LenghtError('Chybná délka vstupních dat')\n",
    "\n",
    "for cislo_mereni in range(0, len(minimum)):\n",
    "    hodnoty_mereni[cislo_mereni+1] = ... # zde chybí použití pojmenované n-tice pro uložení hodnot\n",
    "    \n",
    "for cislo_mereni, hodnoty in hodnoty_mereni.items():\n",
    "    ... # zde chybi ten správný výpis"
   ]
  },
  {
   "cell_type": "markdown",
   "id": "d1e55a7f-d301-4060-8d61-90418125e68e",
   "metadata": {},
   "source": [
    "### Data ze slovníku"
   ]
  },
  {
   "cell_type": "code",
   "execution_count": null,
   "id": "9e798d1b-9b78-4532-af62-e4ee744810a4",
   "metadata": {},
   "outputs": [],
   "source": [
    "hodnoceni = {'Jan': [1, 2, 3, 5], 'Jana': [3, 3, 1, 1]}"
   ]
  },
  {
   "cell_type": "markdown",
   "id": "34a5c0ec-921a-4d31-8001-6188e44accf5",
   "metadata": {},
   "source": [
    "#### Procházení"
   ]
  },
  {
   "cell_type": "markdown",
   "id": "a695c2b6-ae09-4934-a7cc-df80c1e5e8c5",
   "metadata": {},
   "source": [
    "- procházení klíčů (přímé procházení, nebo volání metody `.keys()`)"
   ]
  },
  {
   "cell_type": "code",
   "execution_count": null,
   "id": "64575783-eb6a-4a52-91f9-e0045e772321",
   "metadata": {},
   "outputs": [],
   "source": [
    "for jmeno in hodnoceni.keys():\n",
    "    print(jmeno, hodnoceni[jmeno])"
   ]
  },
  {
   "cell_type": "markdown",
   "id": "5399f8fa-77d8-4472-9ab6-774ed2835e9a",
   "metadata": {},
   "source": [
    "- procházení hodnot (volání metody `.values()`) - bez informace o klíčích a bez možnosti se k nim dostat  "
   ]
  },
  {
   "cell_type": "code",
   "execution_count": null,
   "id": "61202435-4f13-4969-9651-5e1b9d1d191b",
   "metadata": {},
   "outputs": [],
   "source": [
    "for seznam_hodnoceni in hodnoceni.values():\n",
    "    print(seznam_hodnoceni)"
   ]
  },
  {
   "cell_type": "markdown",
   "id": "ae220b58-42f2-43af-8ef0-28fce058d5da",
   "metadata": {},
   "source": [
    "- pomocí dvojce klíč-hodnota (volání metody `.items()`)"
   ]
  },
  {
   "cell_type": "code",
   "execution_count": null,
   "id": "35fdb13a-c477-4892-89c3-9276622e83f5",
   "metadata": {},
   "outputs": [],
   "source": [
    "for jmeno, seznam_hodnoceni in hodnoceni.items():\n",
    "    print(jmeno, seznam_hodnoceni)"
   ]
  },
  {
   "cell_type": "markdown",
   "id": "f410c23d-e9d6-44f8-bdc8-ea55566d260f",
   "metadata": {},
   "source": [
    "#### Vyhledávání"
   ]
  },
  {
   "cell_type": "markdown",
   "id": "0780a478-1f15-47fa-8dc7-14b5c53cb277",
   "metadata": {},
   "source": [
    "Při vyhledávání je nutné vyřešit situaci, když se klíč ve slovníku nenajde."
   ]
  },
  {
   "cell_type": "markdown",
   "id": "c43f41c8-3e19-49c5-97fc-2caa7204303d",
   "metadata": {},
   "source": [
    "- pomocí `try-except`"
   ]
  },
  {
   "cell_type": "code",
   "execution_count": null,
   "id": "090b7923-c3f9-46a0-9371-76f67228eb40",
   "metadata": {},
   "outputs": [],
   "source": [
    "try:\n",
    "    seznam_hodnoceni = hodnoceni['Lenka']\n",
    "except KeyError:\n",
    "    print('V seznamu hodnocení se tento student nenalézá!')"
   ]
  },
  {
   "cell_type": "markdown",
   "id": "9344eaff-5080-4332-89c1-d34ce48514c0",
   "metadata": {},
   "source": [
    "- pomocí metody `.get()`, která jako prvni parametr přebírá hledaný klíč\n",
    "- metoda při nenalezení klíče vrací `None`, nebo vlastní nastavenou hodnotu na místě druhého parametru"
   ]
  },
  {
   "cell_type": "code",
   "execution_count": null,
   "id": "a87d7a7d-d5a6-46b1-9e74-85bdc98c481d",
   "metadata": {},
   "outputs": [],
   "source": [
    "seznam_hodnoceni = hodnoceni.get('Lenka')"
   ]
  },
  {
   "cell_type": "code",
   "execution_count": null,
   "id": "74e2e05a-f8e2-4efc-bdd7-74d4abdbe22a",
   "metadata": {},
   "outputs": [],
   "source": [
    "seznam_hodnoceni = hodnoceni.get('Oleg', [1, 1, 1])  # kdo nic nedělá, nic nezkazí a zaslouží si odměnu"
   ]
  },
  {
   "cell_type": "markdown",
   "id": "b01c1e02-892e-47a6-98f2-ca0eeb6bf2dc",
   "metadata": {},
   "source": [
    "Ve výchozím slovníku (viz dále) se se situací kolem neexistujícího klíče nemusíme potýkat, protože výchozí slovník jej sám založí s výchozí hodnotou i při hledání, což ale nemusí být vždycky žádoucí. Pokud bychom se ptali na přitomnost klíče ve slovníku pomocí `in`, dotaz by vždy vrátil hodnotu `True`."
   ]
  },
  {
   "cell_type": "markdown",
   "id": "8be97e51-52c8-4123-a141-a3f383102a5a",
   "metadata": {},
   "source": [
    "#### Příklad"
   ]
  },
  {
   "cell_type": "markdown",
   "id": "2a758dc1-a954-4262-9fae-64f163961253",
   "metadata": {},
   "source": [
    "Ze dvou zadaných slovníků vytvořte jeden slovník, který bude jako klíč obsahovat jméno člověka a jako hodnotu pojmenovanou n-tici, která bude obsahovat údaje o výšce a váze člověka. Protože někdy jedna z hodnot bude chybět, použijte metodu slovníku `get`, abyste místo chybějících hodnot doplnili `None`. Pro vytvoření seznamu lidí je vhodné použít datovou strukturu množiny (`set`)."
   ]
  },
  {
   "cell_type": "code",
   "execution_count": null,
   "id": "6070cb44-540e-4e5e-843c-fe1a8cc2e04e",
   "metadata": {},
   "outputs": [],
   "source": [
    "vyska_lidi = {'Hana': 176, 'Radek': 178, 'Max': 185, 'Renata': 165, 'Oldřich': 199, 'Luděk': 197}\n",
    "vaha_lidi = {'Helena': 67, 'Radek': 89, 'Karel': 75, 'Renata': 50, 'Milan': 103, 'René': 69}"
   ]
  },
  {
   "cell_type": "code",
   "execution_count": null,
   "id": "087d6922-480b-4523-a1fb-e6131acd0dac",
   "metadata": {},
   "outputs": [],
   "source": [
    "# místo pro váš příklad"
   ]
  },
  {
   "cell_type": "markdown",
   "id": "14b6ef07-ef22-4075-a186-35d608013f9a",
   "metadata": {},
   "source": [
    "### Předávání rozbalených argumentů z n-tic, seznamu a slovníku"
   ]
  },
  {
   "cell_type": "markdown",
   "id": "700d5cb1-ade6-45a3-b142-685b12ee1ffc",
   "metadata": {},
   "source": [
    "Pokud potřebujeme dostat jednotlivé hodnoty z n-tice nebo seznamu, můžeme použít hvězdičkovou notaci."
   ]
  },
  {
   "cell_type": "code",
   "execution_count": null,
   "id": "9c7fc5f7-56bc-4b3d-9cc1-b1cffd463d04",
   "metadata": {},
   "outputs": [],
   "source": [
    "from datetime import date"
   ]
  },
  {
   "cell_type": "code",
   "execution_count": null,
   "id": "fb78920e-9a38-4b67-a99f-adb1bde2a834",
   "metadata": {},
   "outputs": [],
   "source": [
    "cisla = (2020, 1, 30)"
   ]
  },
  {
   "cell_type": "code",
   "execution_count": null,
   "id": "96ba4244-eace-43d2-9973-d2b52c40412e",
   "metadata": {},
   "outputs": [],
   "source": [
    "datum = date(*cisla)"
   ]
  },
  {
   "cell_type": "code",
   "execution_count": null,
   "id": "f7c63686-342b-4ef3-a1e9-2c130ad43ba8",
   "metadata": {},
   "outputs": [],
   "source": [
    "print(type(datum))\n",
    "print(datum)"
   ]
  },
  {
   "cell_type": "code",
   "execution_count": null,
   "id": "b86a773a-a281-4b88-b22a-0bed24d167ed",
   "metadata": {},
   "outputs": [],
   "source": [
    "f\"{datum}\".format(**locals())"
   ]
  },
  {
   "cell_type": "markdown",
   "id": "6bd650e1-c9b4-4472-93e2-598e2ec34210",
   "metadata": {},
   "source": [
    "### Nastavení funkce *print*"
   ]
  },
  {
   "cell_type": "markdown",
   "id": "b1667f2e-5f16-41f0-986c-0b72f6fb6145",
   "metadata": {},
   "source": [
    "Bez nastavení se print chová tak, že k oddělení používá mezeru (` `), pro koncový znak používá konec řádku (`\\n`) a vypisuje na standardní výstup (`std`)."
   ]
  },
  {
   "cell_type": "code",
   "execution_count": null,
   "id": "a3959503-15e9-418c-a820-dd84096ea327",
   "metadata": {},
   "outputs": [],
   "source": [
    "print('Všechno', 'je', 'v pořádku')"
   ]
  },
  {
   "cell_type": "markdown",
   "id": "ab8e92fd-bce8-44e9-a8c3-2ab5c1255853",
   "metadata": {},
   "source": [
    "Pojďme si ukázat explicitní vyjádření oddělovače (`sep`), koncového znaku (`end`) a výstupu (`file`)"
   ]
  },
  {
   "cell_type": "code",
   "execution_count": null,
   "id": "7e626b11-2805-4b40-8075-a15617969eb2",
   "metadata": {},
   "outputs": [],
   "source": [
    "import sys\n",
    "\n",
    "print('Všechno', 'je', 'v pořádku', sep=' ', end='\\n', file=sys.stdout)"
   ]
  },
  {
   "cell_type": "markdown",
   "id": "c75fae03-6daf-4e85-a28a-876154035eb6",
   "metadata": {},
   "source": [
    "Jak je z ukázky patrné, parametry je třeba zadávat jmenovitě na konci. "
   ]
  },
  {
   "cell_type": "markdown",
   "id": "513b10de-56bc-4043-84e6-9a7b0ec53c26",
   "metadata": {},
   "source": [
    "Pojďmě si nyní ukázat nějaké zajímavé příklady:"
   ]
  },
  {
   "cell_type": "markdown",
   "id": "5fc2d745-b0b0-48cc-9974-85486c6b6dab",
   "metadata": {},
   "source": [
    "- změna oddělovače pro výpis hodnot"
   ]
  },
  {
   "cell_type": "code",
   "execution_count": null,
   "id": "65e2a3eb-000a-49eb-8af7-d484da3f7b52",
   "metadata": {},
   "outputs": [],
   "source": [
    "seznam_zaku = ['Jan', 'Lenka', 'Filip', 'Erik', 'Dana']\n",
    "\n",
    "print(*seznam_zaku, sep=', ')"
   ]
  },
  {
   "cell_type": "markdown",
   "id": "7b3130d8-2f30-49a2-b066-9d1aa0b6751a",
   "metadata": {},
   "source": [
    "- změna konce řádku"
   ]
  },
  {
   "cell_type": "code",
   "execution_count": null,
   "id": "e2d86a43-6d71-470c-b0de-3019f6ed8a4f",
   "metadata": {},
   "outputs": [],
   "source": [
    "prumerne_teploty = {1: 3.2, 2: 4.0, 3: 7.9, 4: 10.2, 5: 18.3, 6: 24.4, 7: 26.2, 8: 25.9, 9: 21.7, 10: 18.0, 11: 7.2, 12: 1.1}\n",
    "\n",
    "for mesic in prumerne_teploty:\n",
    "    print(f'{mesic:5}', end=' ')\n",
    "    \n",
    "print()\n",
    "\n",
    "for mesic in prumerne_teploty:\n",
    "    print(f'{prumerne_teploty[mesic]:5}', end=' ')"
   ]
  },
  {
   "cell_type": "markdown",
   "id": "b47540a4-5e2d-495e-a7a8-5474778be0d2",
   "metadata": {},
   "source": [
    "- změna výstupu"
   ]
  },
  {
   "cell_type": "code",
   "execution_count": null,
   "id": "4f8c58f2-973f-4630-a9f8-3c001bdf0342",
   "metadata": {},
   "outputs": [],
   "source": [
    "import sys\n",
    "\n",
    "\n",
    "print(\"Tenhle výstup si můžeš s klidem přesměrovat do souboru\")\n",
    "print(\"Ale tenhle výstup, to je chybové hlášení, takže i když všechno ostatní přesměruješ do souboru, tak se tohle zobrazí!\", file=sys.stderr)"
   ]
  },
  {
   "cell_type": "markdown",
   "id": "c956dc03-3ba3-4db6-83db-c93e055f1c65",
   "metadata": {},
   "source": [
    "#### Příklad"
   ]
  },
  {
   "cell_type": "markdown",
   "id": "7597625a-97d4-4a92-9997-b15d00b94b74",
   "metadata": {},
   "source": [
    "- upravte program, který z níže zadaného slovníku vypíše textovou tabulku, kde ve sloupcích budou měsíce, v řádcích hodiny a v buňkách teploty"
   ]
  },
  {
   "cell_type": "markdown",
   "id": "4fe19dc3-efd1-42d0-9d82-2172f6c9b1dc",
   "metadata": {},
   "source": [
    "- generování vstupních dat"
   ]
  },
  {
   "cell_type": "code",
   "execution_count": null,
   "id": "1373ba76-b860-4c38-a326-08be2a01230a",
   "metadata": {},
   "outputs": [],
   "source": [
    "from collections import defaultdict\n",
    "from random import randint, seed\n",
    "\n",
    "seed(0)\n",
    "\n",
    "generovane_teploty = defaultdict(dict)\n",
    "for hodina in range(24):    \n",
    "    for mesic in range(1, 13):\n",
    "        generovane_teploty[f'{hodina:02}:00'][mesic] =  round((randint(0, 300) - 80) * 0.1, 1)"
   ]
  },
  {
   "cell_type": "markdown",
   "id": "5a5c1309-3b1d-4420-ad20-424cd930a193",
   "metadata": {},
   "source": [
    "- ukázka očekávaného výstupu"
   ]
  },
  {
   "cell_type": "raw",
   "id": "8598df1e-61cd-446b-b45f-223ee32fee61",
   "metadata": {},
   "source": [
    "Hodina      1      2      3      4      5      6      7      8      9     10     11     12 \n",
    " 00:00   11.7   13.5   -6.0    5.2   18.1   16.8   12.7    7.5   16.4   10.3   21.8    3.1 \n",
    " 01:00   17.8   -0.9    6.4   -0.9   -3.2    4.8   19.2   -0.5    7.8   -3.0   -4.3    8.9 \n",
    " 02:00   16.1   20.6   -2.9   10.1   14.2    8.1    2.4   20.2   16.4   14.6   18.6    5.3 \n",
    " 03:00   -4.9   20.0   -7.3   -3.3   12.4   -8.0   17.2    9.0    4.4    8.6   -4.8    1.7 \n",
    " 04:00   21.0    3.3    4.2   -0.8   19.8   14.9   -3.4   -3.9    8.3   18.0   17.0   -2.5 \n",
    " 05:00    7.4   20.2    6.9   -1.7   20.0    9.0   19.6    2.4   20.0   22.0    6.7   14.7 \n"
   ]
  },
  {
   "cell_type": "markdown",
   "id": "10bf22a8-093d-4d10-afbe-50ca8087500b",
   "metadata": {},
   "source": [
    "- samotný program k úpravě"
   ]
  },
  {
   "cell_type": "code",
   "execution_count": null,
   "id": "ddc1d538-f708-43b8-8e04-34218f08f9b1",
   "metadata": {},
   "outputs": [],
   "source": [
    "print('Hodina')\n",
    "\n",
    "for mesic in range(1, 13):\n",
    "    print(f'{mesic:>6}')\n",
    "print()\n",
    "for hodina in generovane_teploty:\n",
    "    print(f'{hodina:>6}')\n",
    "    for mesic in range(1, 13):\n",
    "        print(f'{generovane_teploty[hodina][mesic]:6}')\n",
    "    print()"
   ]
  },
  {
   "cell_type": "markdown",
   "id": "4639be65-44c8-49e0-87b6-76681a1fed02",
   "metadata": {},
   "source": [
    "### Přesměrování do/ze souboru v příkazovém řádku"
   ]
  },
  {
   "cell_type": "markdown",
   "id": "2ab0d3f5-2c7a-4035-8a2d-63f60953452a",
   "metadata": {},
   "source": [
    "- pokud vypisujete nějaké hodnoty v konzoli, můžete tento výstup přesměrovat do souboru\n",
    "- podobně můžete převzít vstup ze souboru pro funkci `input`"
   ]
  },
  {
   "cell_type": "markdown",
   "id": "a25369ae-6cb1-4a6d-b070-e7ac72058765",
   "metadata": {},
   "source": [
    "Pro přesměrování výstupu se využívá větší než (`>`)."
   ]
  },
  {
   "cell_type": "markdown",
   "id": "5225c849-6251-4b79-b415-2ee6b910b382",
   "metadata": {},
   "source": [
    "`C:\\Projekt\\Generator\\generuj.py > vysledek.txt`"
   ]
  },
  {
   "cell_type": "markdown",
   "id": "d48bf520-be6d-48d3-85e9-4505b4706325",
   "metadata": {},
   "source": [
    "Pro přesměrování vstupu se využívá menší než (`<`). Hodnota je jednom řádku je vstup pro `input`."
   ]
  },
  {
   "cell_type": "markdown",
   "id": "121d8c20-19eb-478b-9d88-0310e23389a5",
   "metadata": {},
   "source": [
    "`C:\\Projekt\\Vyhodnoceni\\vyhodnot.py < vstupni_hodnoty.txt`"
   ]
  },
  {
   "cell_type": "markdown",
   "id": "0299c616-c6e6-4d2d-91dd-94a2f76c655d",
   "metadata": {},
   "source": [
    "#### Samostatný příklad (mimo Notebook)"
   ]
  },
  {
   "cell_type": "markdown",
   "id": "d6aba804-3b85-49c4-93dc-5d9d54c26d84",
   "metadata": {},
   "source": [
    "- vytvořte jednoduchý program na výpis hodnot (vytvořte seznam 10 jmen) a přidejte navíc prázdný řádek, který přesměrujete do souboru\n",
    "- po přesměrování do souboru zobrazte na `sys.stderr` hlášku, že je výstup dokončen\n",
    "- vytvořte další program, který bude přijímat vstup pomocí funkce `input`, hodnoty ukládat do pole a následně pole vytiskněte\n",
    "- do souboru přesměrujte vstup ze souboru z předchozího programu"
   ]
  },
  {
   "cell_type": "code",
   "execution_count": null,
   "id": "2c90be1f-f041-45d8-a728-bb133f091da3",
   "metadata": {},
   "outputs": [],
   "source": [
    "# Program pro výpis si tu klidně napiš, ale pak ho ulož do souboru generuj.py"
   ]
  },
  {
   "cell_type": "code",
   "execution_count": null,
   "id": "8c724d1a-2a64-4e68-859c-4a3177560812",
   "metadata": {},
   "outputs": [],
   "source": [
    "# Program pro vkládání si tu klidně napiš, ale pak ho ulož do souboru zpracuj.py"
   ]
  },
  {
   "cell_type": "markdown",
   "id": "959822a2-0262-4434-9124-6bdfc8398c8f",
   "metadata": {},
   "source": [
    "### Ternární operátor (jednořádkový if - else)"
   ]
  },
  {
   "cell_type": "markdown",
   "id": "500b4440-0985-4ea6-a243-6a2fd741fa27",
   "metadata": {},
   "source": [
    "- pro jednoduchý if-else můžeme využít jednořádkovou notaci\n",
    "- nelze použít pouze pro if\n",
    "- lze je vnořovat, takže je možné konstruovat if-elif-else, ale už při prvním vnoření je podmínka hůř čítelná a řádek nepříjemně dlouhý"
   ]
  },
  {
   "cell_type": "code",
   "execution_count": null,
   "id": "459ffcb3-d30c-4f49-ba19-901d7adcb42d",
   "metadata": {},
   "outputs": [],
   "source": [
    "# vstupní proměnné pro následující příklady s ternárním operátorem\n",
    "seznam_znamek = [5, 5, 5, 5, 3]"
   ]
  },
  {
   "cell_type": "markdown",
   "id": "04e0faec-7a54-4a17-acf3-c193105757f4",
   "metadata": {},
   "source": [
    "#### Víceřádkový *if-else*"
   ]
  },
  {
   "cell_type": "code",
   "execution_count": null,
   "id": "0a253263-692b-4db3-8ee8-29529c626263",
   "metadata": {},
   "outputs": [],
   "source": [
    "if seznam_znamek:\n",
    "    prumer = sum(seznam_znamek) / len(seznam_znamek)\n",
    "else:\n",
    "    prumer = None"
   ]
  },
  {
   "cell_type": "markdown",
   "id": "f646ea7a-b52b-4a48-b6ed-21b1d7940cd8",
   "metadata": {},
   "source": [
    "#### Jednořádkový *if-else*"
   ]
  },
  {
   "cell_type": "code",
   "execution_count": null,
   "id": "4ef231d3-f991-4c5f-92c2-813f59f064c7",
   "metadata": {},
   "outputs": [],
   "source": [
    "prumer = sum(seznam_znamek) / len(seznam_znamek) if seznam_znamek else None"
   ]
  },
  {
   "cell_type": "markdown",
   "id": "e30dc517-9815-4948-b20d-bfc38ba17c3a",
   "metadata": {},
   "source": [
    "#### Víceřádkový *if-elif-else*"
   ]
  },
  {
   "cell_type": "code",
   "execution_count": null,
   "id": "6f147806-3cfa-41c5-95df-d0740acc43a6",
   "metadata": {},
   "outputs": [],
   "source": [
    "if prumer <= 1.5:\n",
    "    hodnoceni = \"prospěl s vyznamenáním\"\n",
    "elif prumer <= 4.5:\n",
    "    hodnoceni = \"prospěl\"\n",
    "else:\n",
    "    hodnoceni = \"neprospěl\""
   ]
  },
  {
   "cell_type": "markdown",
   "id": "7a051cfe-646d-42b6-b9ca-6b67b7c39e84",
   "metadata": {},
   "source": [
    "#### Jednořádkový *if-elif-else*"
   ]
  },
  {
   "cell_type": "code",
   "execution_count": null,
   "id": "b9b3131a-b5b4-474a-99e3-e5d5b3837918",
   "metadata": {},
   "outputs": [],
   "source": [
    "hodnoceni = \"prospěl s vyznamenáním\" if prumer <= 1.5 else \"prospěl\" if prumer <= 4.5 else \"neprospěl\""
   ]
  },
  {
   "cell_type": "markdown",
   "id": "420271da-7a90-457c-9d1d-081d7665c8b7",
   "metadata": {},
   "source": [
    "#### Samostatný příklad"
   ]
  },
  {
   "cell_type": "markdown",
   "id": "1001f81a-d6e6-4ae6-b418-6853411935bb",
   "metadata": {},
   "source": [
    "- vytvořte jednořádkový if-else, který do proměnné `uzivatel` uloží číslo z proměnné `osobni_cislo` jako textový řetězec v případě, že se `osobni_cislo` nachází v seznamu `uzivatele`; v opačném případě do proměnné `uzivatel` uložte textový řetězec \"anonymní uživatel\""
   ]
  },
  {
   "cell_type": "code",
   "execution_count": null,
   "id": "b8edb1be-14b5-4f82-acd4-198a9143d993",
   "metadata": {},
   "outputs": [],
   "source": [
    "osobni_cislo = 15542\n",
    "uzivatele = [15320, 15348, 15441, 15442, 15498]"
   ]
  },
  {
   "cell_type": "code",
   "execution_count": null,
   "id": "b71f3944-c01b-452d-9c93-9ef124df4c94",
   "metadata": {},
   "outputs": [],
   "source": [
    "# prostor pro řešení úlohy"
   ]
  },
  {
   "cell_type": "markdown",
   "id": "3378d990-df77-4316-992c-29e637ea6048",
   "metadata": {},
   "source": [
    "### Mroží operátor (walrus)"
   ]
  },
  {
   "cell_type": "markdown",
   "id": "f72391c2-0d1e-441e-a772-4c6e8d17c6ee",
   "metadata": {},
   "source": [
    "- je podporovaný od verze Pythonu 3.8\n",
    "- už během testování vytváří a ukládá do proměnné, která může být dále použita "
   ]
  },
  {
   "cell_type": "markdown",
   "id": "b189bc42-7e61-48d7-8f02-9728cdbfcf7e",
   "metadata": {},
   "source": [
    "Nejprve si ukážme kód bez mrožího operátoru."
   ]
  },
  {
   "cell_type": "code",
   "execution_count": null,
   "id": "bdc64347-ac6d-4421-996e-b31b674eb556",
   "metadata": {},
   "outputs": [],
   "source": [
    "hodnoceni = {'Jan': [1, 2, 3, 5], 'Jana': [3, 3, 1, 1]}"
   ]
  },
  {
   "cell_type": "code",
   "execution_count": null,
   "id": "30e6e151-6c25-44ba-8b3c-f8fc7e8d775d",
   "metadata": {},
   "outputs": [],
   "source": [
    "seznam_hodnoceni = data.get('Jan')\n",
    "if seznam_hodnoceni:\n",
    "    nejlepsi_znamka = min(seznam_hodnoceni)"
   ]
  },
  {
   "cell_type": "markdown",
   "id": "387ffe25-4cba-4d8d-8b54-40ba820aa4f3",
   "metadata": {},
   "source": [
    "A nyní už samotný mroží operátor."
   ]
  },
  {
   "cell_type": "code",
   "execution_count": null,
   "id": "b538d3f1-c6a9-43d5-b1d9-afd5f02b2fc8",
   "metadata": {},
   "outputs": [],
   "source": [
    "if seznam_hodnoceni := data.get('Jan'):\n",
    "    nejlepsi_znamka = min(seznam_hodnoceni)"
   ]
  },
  {
   "cell_type": "code",
   "execution_count": null,
   "id": "f3cc3722-6595-4087-9c86-9e3977c1fb1d",
   "metadata": {},
   "outputs": [],
   "source": [
    "..."
   ]
  },
  {
   "cell_type": "markdown",
   "id": "ef14b5c2-1c16-4d0f-837d-0a1aac250af2",
   "metadata": {},
   "source": [
    "### Výchozí slovník (*defaultdict*)"
   ]
  },
  {
   "cell_type": "markdown",
   "id": "509e00cb-03c4-42e8-89a8-b3681d63b4ad",
   "metadata": {},
   "source": [
    "- pokud se ve výchozím slovníku nenalézá klíč, se kterým chceme dále pracovat, vytvoří jej při čtení/zápisu\n",
    "- běžný slovník takto funguje také, výchozí slovník ovšem můžeme požádat, aby za nás při použití zavolal funkci, která vytvoří výchozí hodnotu\n",
    "- výchozí slovník je nejprve nutné importovat z knihovny `collections` "
   ]
  },
  {
   "cell_type": "code",
   "execution_count": null,
   "id": "dfd8e496-8d0b-4a54-96b6-5b26ef42e98f",
   "metadata": {},
   "outputs": [],
   "source": [
    "from collections import defaultdict"
   ]
  },
  {
   "cell_type": "markdown",
   "id": "003db5d8-873e-454d-a652-a5946a063e22",
   "metadata": {},
   "source": [
    "Představte se nyní situaci, kdy máte pro každého studenta potřebujete ukládat známky ze vstupu ve formátu `\"{jmeno} {znamka}\"`."
   ]
  },
  {
   "cell_type": "markdown",
   "id": "548ba813-54f6-4a66-a133-65bf5e579de1",
   "metadata": {},
   "source": [
    "Nejprve si ukažme řešení bez výchozího slovníku:"
   ]
  },
  {
   "cell_type": "code",
   "execution_count": null,
   "id": "bb812fb9-dc0f-428c-b771-1db841043c76",
   "metadata": {},
   "outputs": [],
   "source": [
    "print(\"Zadávání hodnocení studentů\")\n",
    "print(\"Možnosti vkládání:\") \n",
    "print(\" - jméno studenta a hodnocení oddělení mezerou pro vložení známky\")\n",
    "print(\" - 'V' pro výpis\")\n",
    "print(\" - 'K' pro ukončení zápisu\", end='\\n\\n')\n",
    "hodnoceni = {}\n",
    "while True:\n",
    "    if vstup := input(\"Zadejte: \"):\n",
    "        if vstup == 'V':\n",
    "            print()\n",
    "            print('Výpis zadaných známek:')\n",
    "            if hodnoceni:\n",
    "                for jmeno, seznam_hodnoceni in hodnoceni.items():\n",
    "                    print(jmeno, seznam_hodnoceni)\n",
    "                print()\n",
    "            else:\n",
    "                print('Dosud nebylo zadáno žádné hodnocení.', end='\\n\\n')\n",
    "        elif vstup == 'K':\n",
    "            print('Zadávání známek ukončeno.')\n",
    "            break\n",
    "        elif ' ' in vstup:\n",
    "            jmeno, znamka = vstup.rsplit(' ', 1)\n",
    "            if znamka.isdigit() and 1 <= int(znamka) <= 5:\n",
    "                if jmeno not in hodnoceni:\n",
    "                    hodnoceni[jmeno] = []        \n",
    "                hodnoceni[jmeno].append(int(znamka))\n",
    "            else:\n",
    "                print('Známka neodpovídá standardům hodnocení.', end='\\n\\n')\n",
    "        else:\n",
    "            print('Vstup neobsahoval mezeru.', end='\\n\\n')\n",
    "                \n",
    "    else:\n",
    "        print('Zadán prázdný příkaz, opravte prosím zadání.', end='\\n\\n')\n",
    "        "
   ]
  },
  {
   "cell_type": "markdown",
   "id": "17da2a9f-9d80-4278-9c74-1952aaf78673",
   "metadata": {},
   "source": [
    "### Anonymní funkce (lambda)"
   ]
  },
  {
   "cell_type": "markdown",
   "id": "92c6b039-3b85-413e-b3b4-e5074be144c2",
   "metadata": {},
   "source": [
    "- anonymní funkce se používá především tam, kde s ní dále nepotřebujeme pracovat jako s proměnnou\n",
    "- například tedy při vytváření klíče pro třídění (`sorted`), nebo jako funkci pro výchozí slovník (`defaultdict`) z knihovny `collections`"
   ]
  },
  {
   "cell_type": "markdown",
   "id": "8ae6266a-06b1-4d67-bb3f-7f2ebfce5478",
   "metadata": {},
   "source": [
    "### Komperenze"
   ]
  },
  {
   "cell_type": "code",
   "execution_count": null,
   "id": "054e53f3-381b-45fb-9e87-ea90782f43a6",
   "metadata": {},
   "outputs": [],
   "source": [
    "..."
   ]
  },
  {
   "cell_type": "markdown",
   "id": "d07586f2-cf43-418f-bc19-ee58f3f34afa",
   "metadata": {},
   "source": [
    "### Modelové řešení příkladů"
   ]
  },
  {
   "cell_type": "markdown",
   "id": "c2b1e4d7-ae3b-40ab-be05-8bc72a91941c",
   "metadata": {},
   "source": [
    "#### Nastavení funkce *print*"
   ]
  },
  {
   "cell_type": "code",
   "execution_count": null,
   "id": "1cfc4c33-8647-45d3-8af0-48a0154f3127",
   "metadata": {},
   "outputs": [],
   "source": [
    "print('Hodina', end=' ')\n",
    "\n",
    "for mesic in range(1, 13):\n",
    "    print(f'{mesic:>6}', end=' ')\n",
    "print()\n",
    "for hodina in generovane_teploty:\n",
    "    print(f'{hodina:>6}', end=' ')\n",
    "    for mesic in range(1, 13):\n",
    "        print(f'{generovane_teploty[hodina][mesic]:6}', end=' ')\n",
    "    print()"
   ]
  },
  {
   "cell_type": "markdown",
   "id": "3ec13a1c-7e5d-41ac-ad84-b6e5b64ac001",
   "metadata": {},
   "source": [
    "#### Pojmenovaná n-tice"
   ]
  },
  {
   "cell_type": "code",
   "execution_count": null,
   "id": "3c7462dd-d2c7-484b-9602-a9a5bf8aa75b",
   "metadata": {},
   "outputs": [],
   "source": [
    "from collections import namedtuple\n",
    "\n",
    "hodnoty_mereni = {}\n",
    "Mereni = namedtuple('Mereni', ['minimum', 'prumer', 'maximum'])\n",
    "if not (len(minimum) == len(prumer) and len(prumer) == len(maximum)):\n",
    "    raise LenghtError('Chybná délka vstupních dat')\n",
    "\n",
    "for cislo_mereni in range(0, len(minimum)):\n",
    "    hodnoty_mereni[cislo_mereni+1] = Mereni(minimum[cislo_mereni], prumer[cislo_mereni], maximum[cislo_mereni])\n",
    "\n",
    "pocet_mist_mereni = int(len(str(len(hodnoty_mereni))))\n",
    "for cislo_mereni, hodnoty in hodnoty_mereni.items():\n",
    "    print(f'Měření č. {cislo_mereni:{pocet_mist_mereni}} - minumum: {hodnoty.minimum:>3}, průměr: {hodnoty.prumer:>3}, maximum: {hodnoty.maximum:>3}')\n",
    "    "
   ]
  }
 ],
 "metadata": {
  "kernelspec": {
   "display_name": "Python 3 (ipykernel)",
   "language": "python",
   "name": "python3"
  },
  "language_info": {
   "codemirror_mode": {
    "name": "ipython",
    "version": 3
   },
   "file_extension": ".py",
   "mimetype": "text/x-python",
   "name": "python",
   "nbconvert_exporter": "python",
   "pygments_lexer": "ipython3",
   "version": "3.11.4"
  }
 },
 "nbformat": 4,
 "nbformat_minor": 5
}
