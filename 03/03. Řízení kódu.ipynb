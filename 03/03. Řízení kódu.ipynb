{
 "cells": [
  {
   "cell_type": "markdown",
   "metadata": {
    "collapsed": false,
    "jupyter": {
     "outputs_hidden": false
    }
   },
   "source": [
    "Python: Za hranice základů\n",
    "---\n"
   ]
  },
  {
   "cell_type": "markdown",
   "metadata": {
    "collapsed": false,
    "jupyter": {
     "outputs_hidden": false
    }
   },
   "source": [
    "3. Řízení kódu (09.10.2023)"
   ]
  },
  {
   "cell_type": "markdown",
   "metadata": {
    "collapsed": false,
    "jupyter": {
     "outputs_hidden": false
    }
   },
   "source": [
    "Příkazy pro řízení toku programu\n",
    "--"
   ]
  },
  {
   "cell_type": "markdown",
   "metadata": {
    "collapsed": false,
    "jupyter": {
     "outputs_hidden": false
    }
   },
   "source": [
    "1. if, elif, else\n",
    "2. switch (od verze Pythonu 3.10)\n",
    "3. for cyklus\n",
    "4. while cyklus\n",
    "6. break a continue\n",
    "7. pass\n",
    "8. funkce\n",
    "11. try, except a finally\n",
    "12. with\n",
    "13. rekurzivní funkce"
   ]
  },
  {
   "cell_type": "markdown",
   "metadata": {
    "collapsed": false,
    "jupyter": {
     "outputs_hidden": false
    }
   },
   "source": [
    "### if, elif, else\n"
   ]
  },
  {
   "cell_type": "markdown",
   "metadata": {},
   "source": [
    "- základní konstrukce podmínek pro větvení program"
   ]
  },
  {
   "cell_type": "code",
   "execution_count": null,
   "metadata": {},
   "outputs": [],
   "source": [
    "import datetime\n",
    "\n",
    "narozeniny = datetime.date(2023, 10, 10)"
   ]
  },
  {
   "cell_type": "code",
   "execution_count": null,
   "metadata": {
    "ExecuteTime": {
     "end_time": "2023-10-09T06:12:41.480466800Z",
     "start_time": "2023-10-09T06:12:41.219991400Z"
    }
   },
   "outputs": [],
   "source": [
    "if narozeniny == datetime.date.today():\n",
    "    print(\"Všechno nejlepší k narozeninám!\")\n",
    "elif narozeniny == datetime.date.today() + datetime.timedelta(days=1):\n",
    "    print(\"Opožděně všechno nejlepší k narozeninám!\")\n",
    "else:\n",
    "    print(\"Všechno nejlepší k nenarozeninám!\")"
   ]
  },
  {
   "cell_type": "markdown",
   "metadata": {},
   "source": [
    "- řetězení podmínek"
   ]
  },
  {
   "cell_type": "code",
   "execution_count": null,
   "metadata": {},
   "outputs": [],
   "source": [
    "voda = spagety = sul = True\n",
    "\n",
    "if voda and spagety and sul:\n",
    "    print(\"Můžeš uvařit špagety..\")"
   ]
  },
  {
   "cell_type": "code",
   "execution_count": null,
   "metadata": {},
   "outputs": [],
   "source": [
    "x = 19\n",
    "\n",
    "if x == 21:\n",
    "    print('Oko bere!')\n",
    "elif 18 < x <= 20:\n",
    "    print('Jsi blízko!')\n",
    "elif 0 <= x < 18:\n",
    "    print('Přidej!')\n",
    "elif x < 0:\n",
    "    print('To nejde!')\n",
    "else:\n",
    "    print('Hoříš!!!')"
   ]
  },
  {
   "cell_type": "markdown",
   "metadata": {},
   "source": [
    "- neexistující proměnná"
   ]
  },
  {
   "cell_type": "code",
   "execution_count": null,
   "metadata": {},
   "outputs": [],
   "source": [
    "jmeno = \"Bono\"\n",
    "\n",
    "if jmeno == \"Vox\" and prijmeni is not None:\n",
    "    print('Uuuuuuu!')"
   ]
  },
  {
   "cell_type": "markdown",
   "metadata": {},
   "source": [
    "- jednořádkový if"
   ]
  },
  {
   "cell_type": "code",
   "execution_count": null,
   "metadata": {},
   "outputs": [],
   "source": [
    "jmeno = \"anonym\"\n",
    "\n",
    "je_anonymni = True if jmeno == \"anonym\" else False\n",
    "\n",
    "if jmeno == \"anonym\":\n",
    "    je_anonymni = True\n",
    "else:\n",
    "    je_anonymni = False"
   ]
  },
  {
   "cell_type": "code",
   "execution_count": null,
   "metadata": {},
   "outputs": [],
   "source": [
    "znamka = None\n",
    "\n",
    "znamka = znamka if znamka else 5\n",
    "print(znamka)"
   ]
  },
  {
   "cell_type": "code",
   "execution_count": null,
   "metadata": {},
   "outputs": [],
   "source": [
    "heslo = '******************'\n",
    "\n",
    "print(\"Přílis krátké heslo!\" if len(heslo) < 10 else \"Příliš dlouhé heslo!\")"
   ]
  },
  {
   "cell_type": "markdown",
   "metadata": {},
   "source": [
    "- jednořádkové podmínky lze vnořovat"
   ]
  },
  {
   "cell_type": "code",
   "execution_count": null,
   "metadata": {},
   "outputs": [],
   "source": [
    "pocet_roku = 1\n",
    "\n",
    "text = f\"Je to už {pocet_roku} {'rok' if pocet_roku == 1 else 'roky' if 1 < pocet_roku <= 4 else 'let'}!\"\n",
    "print(text)"
   ]
  },
  {
   "cell_type": "markdown",
   "metadata": {},
   "source": [
    "### switch"
   ]
  },
  {
   "cell_type": "markdown",
   "metadata": {},
   "source": [
    "- od verze Pythonu 3.10"
   ]
  },
  {
   "cell_type": "code",
   "execution_count": null,
   "metadata": {},
   "outputs": [],
   "source": [
    "x = 1\n",
    "\n",
    "match x:\n",
    "    case 1:\n",
    "        print('Výborně.')\n",
    "    case 2:\n",
    "        print('Chvalitebně.')\n",
    "    case 3:\n",
    "        print('Dobře.')\n",
    "    case 4:\n",
    "        print('Dostatečně.')\n",
    "    case 5:\n",
    "        print('Nedostatečně.')\n",
    "    case _:\n",
    "        print(\"Bez hodnocení.\")"
   ]
  },
  {
   "cell_type": "markdown",
   "metadata": {},
   "source": [
    "### for cyklus"
   ]
  },
  {
   "cell_type": "markdown",
   "metadata": {},
   "source": [
    "- klasické pojetí for cyklu"
   ]
  },
  {
   "cell_type": "code",
   "execution_count": null,
   "metadata": {},
   "outputs": [],
   "source": [
    "for i in range(0, 10, 1):\n",
    "    print(i)"
   ]
  },
  {
   "cell_type": "markdown",
   "metadata": {},
   "source": [
    "- pokud nás nezajímá počet, je dobrým zbytem použít _"
   ]
  },
  {
   "cell_type": "code",
   "execution_count": null,
   "metadata": {},
   "outputs": [],
   "source": [
    "for _ in range(0, 3):\n",
    "    print(\"Ozvěna!\");"
   ]
  },
  {
   "cell_type": "markdown",
   "metadata": {},
   "source": [
    "- procházení pomocí for cyklu v Pythonu je podobné použití foreach v jiných jazycích"
   ]
  },
  {
   "cell_type": "code",
   "execution_count": null,
   "metadata": {},
   "outputs": [],
   "source": [
    "import string\n",
    "\n",
    "abeceda = string.ascii_lowercase\n",
    "\n",
    "for pismeno in abeceda:\n",
    "    if pismeno in \"abcdef\":\n",
    "        print(f\"Jsi na začátku, konkrétně na {pismeno}!\")"
   ]
  },
  {
   "cell_type": "markdown",
   "metadata": {},
   "source": [
    "### while cyklus"
   ]
  },
  {
   "cell_type": "markdown",
   "metadata": {},
   "source": [
    "- opakuje se, dokud platí podmínka"
   ]
  },
  {
   "cell_type": "code",
   "execution_count": null,
   "metadata": {},
   "outputs": [],
   "source": [
    "priznak = False\n",
    "while not priznak:\n",
    "    text = input(\"Něco napiš (prázdný řetězec ukončí program): \")\n",
    "    if not text:\n",
    "        priznak = True\n",
    "\n",
    "print('Sbohem a díky za všechny ryby!')"
   ]
  },
  {
   "cell_type": "code",
   "execution_count": null,
   "metadata": {},
   "outputs": [],
   "source": []
  },
  {
   "cell_type": "code",
   "execution_count": null,
   "metadata": {},
   "outputs": [],
   "source": []
  },
  {
   "cell_type": "code",
   "execution_count": 1,
   "metadata": {},
   "outputs": [
    {
     "name": "stdout",
     "output_type": "stream",
     "text": [
      "Počet míst k sezení: 4\n"
     ]
    },
    {
     "name": "stdin",
     "output_type": "stream",
     "text": [
      "Sedl si?  a\n"
     ]
    },
    {
     "name": "stdout",
     "output_type": "stream",
     "text": [
      "Někdo si sedl!\n",
      "Počet míst k sezení: 3\n"
     ]
    },
    {
     "name": "stdin",
     "output_type": "stream",
     "text": [
      "Sedl si?  q\n"
     ]
    },
    {
     "name": "stdout",
     "output_type": "stream",
     "text": [
      "Nikdo si nesedl..\n",
      "Počet míst k sezení: 3\n"
     ]
    },
    {
     "name": "stdin",
     "output_type": "stream",
     "text": [
      "Sedl si?  a\n"
     ]
    },
    {
     "name": "stdout",
     "output_type": "stream",
     "text": [
      "Někdo si sedl!\n",
      "Počet míst k sezení: 2\n"
     ]
    },
    {
     "name": "stdin",
     "output_type": "stream",
     "text": [
      "Sedl si?  a\n"
     ]
    },
    {
     "name": "stdout",
     "output_type": "stream",
     "text": [
      "Někdo si sedl!\n",
      "Počet míst k sezení: 1\n"
     ]
    },
    {
     "name": "stdin",
     "output_type": "stream",
     "text": [
      "Sedl si?  a\n"
     ]
    },
    {
     "name": "stdout",
     "output_type": "stream",
     "text": [
      "Někdo si sedl!\n",
      "Místa došla..\n"
     ]
    }
   ],
   "source": [
    "pocet_mist_k_sezeni = 4\n",
    "hlaska = \"Počet míst k sezení: {pocet}\"\n",
    "\n",
    "\n",
    "while pocet_mist_k_sezeni > 0:\n",
    "    print(hlaska.format(pocet=pocet_mist_k_sezeni))\n",
    "    if input('Sedl si? ').upper() == 'A':\n",
    "        print('Někdo si sedl!')\n",
    "        pocet_mist_k_sezeni -= 1\n",
    "    else:\n",
    "        print('Nikdo si nesedl..')\n",
    "        \n",
    "print('Místa došla..')"
   ]
  },
  {
   "cell_type": "markdown",
   "metadata": {},
   "source": [
    "**Nejenom výkladem je člověk živ, dáme si úkol!**\n",
    "\n",
    "- vezměte předchozí příklad se sezením a realizujte doptávání se na sezení tak, že:\n",
    "  - pokud bude odpověď \"A\", nebo \"a\", místo k sezení se sníží a vypíše se počet míst a hláška, že si někdo sedl\n",
    "  - pokud bude \"N\", nebo \"n\", místo k sezení se nesníží, vypíše se počet míst a hláška, že si nikdo nesedl\n",
    "  - pokud cokoliv jiného, program vypíše, že nerozuměl a znovu se zeptá, jestli si někdo sedl\n",
    "  - \"Q\" nebo \"q\" pro ukončení"
   ]
  },
  {
   "cell_type": "markdown",
   "metadata": {},
   "source": [
    "pocet mist = 5\n",
    "opakuj dokud pocet mist:\n",
    "    vstup = vstup od uživatele\n",
    "    když vstup je A, tak pocet mist o jedno nizsi\n",
    "    když vstup je N, tak se nic nedeje\n",
    "    když vstup je Q, tak ukonči\n",
    "    když vstup je jiny, tak nerozumim"
   ]
  },
  {
   "cell_type": "code",
   "execution_count": 3,
   "metadata": {},
   "outputs": [
    {
     "name": "stdout",
     "output_type": "stream",
     "text": [
      "Počet míst: 5\n"
     ]
    },
    {
     "name": "stdin",
     "output_type": "stream",
     "text": [
      "Sedl si?  q\n"
     ]
    }
   ],
   "source": [
    "pocet_mist = 5\n",
    "while pocet_mist:\n",
    "    print(\"Počet míst:\", pocet_mist)\n",
    "    vstup = input(\"Sedl si? \")\n",
    "    if vstup.upper() == \"A\":\n",
    "        pocet_mist -= 1\n",
    "    elif vstup.upper() == \"N\":\n",
    "        pass\n",
    "    elif vstup.upper() == \"Q\":\n",
    "        break\n",
    "    else:\n",
    "        print('Nerozumim!')\n",
    "        "
   ]
  },
  {
   "cell_type": "markdown",
   "metadata": {},
   "source": [
    "- běžná praxe"
   ]
  },
  {
   "cell_type": "code",
   "execution_count": null,
   "metadata": {},
   "outputs": [],
   "source": [
    "# Nepouštět! k tomuhle už potřebujeme break - viz dále:)\n",
    "while True:\n",
    "    ..."
   ]
  },
  {
   "cell_type": "markdown",
   "metadata": {},
   "source": [
    "### break a continue"
   ]
  },
  {
   "cell_type": "markdown",
   "metadata": {},
   "source": [
    "- break pro přerušení cyklu\n",
    "- continue pro přeskočení zbývajícího kódu a vrácení se na začátek"
   ]
  },
  {
   "cell_type": "code",
   "execution_count": 8,
   "metadata": {},
   "outputs": [
    {
     "name": "stdout",
     "output_type": "stream",
     "text": [
      "nic\n"
     ]
    }
   ],
   "source": [
    "# hledáme slovo o 3 písmenech, když najdeme, nemusíme procházet dál\n",
    "slova = [\"něco\", \"někdo\", \"nic\", \"nikde\", \"auu\"]\n",
    "\n",
    "nalezene_slovo = None\n",
    "for slovo in slova:\n",
    "    if len(slovo) == 3:\n",
    "        nalezene_slovo = slovo\n",
    "        break\n",
    "\n",
    "print(nalezene_slovo)"
   ]
  },
  {
   "cell_type": "code",
   "execution_count": 9,
   "metadata": {},
   "outputs": [
    {
     "name": "stdout",
     "output_type": "stream",
     "text": [
      "1\n",
      "2\n",
      "4\n",
      "5\n"
     ]
    }
   ],
   "source": [
    "import random\n",
    "\n",
    "cisla = range(1, 6)\n",
    "\n",
    "for i in cisla:\n",
    "    if i % 2:\n",
    "        if random.choice((True, False)):\n",
    "            if \"tohle není žádná náhoda\":\n",
    "                continue\n",
    "    \n",
    "    print(i)\n",
    "\n",
    "# přepsat, jsi trochu debil"
   ]
  },
  {
   "cell_type": "code",
   "execution_count": 12,
   "metadata": {},
   "outputs": [
    {
     "name": "stdin",
     "output_type": "stream",
     "text": [
      "Kolikrat ses dnes zasmál?  -10\n"
     ]
    },
    {
     "name": "stdout",
     "output_type": "stream",
     "text": [
      "Sorry, nerozumím!\n"
     ]
    },
    {
     "name": "stdin",
     "output_type": "stream",
     "text": [
      "Kolikrat ses dnes zasmál?  1\n"
     ]
    },
    {
     "name": "stdout",
     "output_type": "stream",
     "text": [
      "Jenom jednou?\n"
     ]
    }
   ],
   "source": [
    "while True:\n",
    "    vstup = input(\"Kolikrat ses dnes zasmál? \")\n",
    "    if vstup.isdigit():\n",
    "        pocet = int(vstup)\n",
    "    else:\n",
    "        print(\"Sorry, nerozumím!\")\n",
    "        continue\n",
    "    \n",
    "    if pocet < 0:\n",
    "        print(\"To není možné!\")\n",
    "    elif pocet == 1:\n",
    "        print(\"Jenom jednou?\")\n",
    "    elif 1 < pocet < 5:\n",
    "        print(\"Lepší než vůbec..\")\n",
    "    else:\n",
    "        print(\"Paráda!\")\n",
    "\n",
    "    break"
   ]
  },
  {
   "cell_type": "markdown",
   "metadata": {},
   "source": [
    "### pass"
   ]
  },
  {
   "cell_type": "markdown",
   "metadata": {},
   "source": [
    "- používá se jako potvzení, že kód nedělá nic "
   ]
  },
  {
   "cell_type": "code",
   "execution_count": 14,
   "metadata": {},
   "outputs": [
    {
     "name": "stdout",
     "output_type": "stream",
     "text": [
      "  1 je větší než nula a není dělitelné ani 2, ani 3, ani 5, ani 7 a ani 11.\n",
      " 13 je větší než nula a není dělitelné ani 2, ani 3, ani 5, ani 7 a ani 11.\n",
      " 17 je větší než nula a není dělitelné ani 2, ani 3, ani 5, ani 7 a ani 11.\n",
      " 19 je větší než nula a není dělitelné ani 2, ani 3, ani 5, ani 7 a ani 11.\n",
      " 23 je větší než nula a není dělitelné ani 2, ani 3, ani 5, ani 7 a ani 11.\n",
      " 29 je větší než nula a není dělitelné ani 2, ani 3, ani 5, ani 7 a ani 11.\n",
      " 31 je větší než nula a není dělitelné ani 2, ani 3, ani 5, ani 7 a ani 11.\n",
      " 37 je větší než nula a není dělitelné ani 2, ani 3, ani 5, ani 7 a ani 11.\n",
      " 41 je větší než nula a není dělitelné ani 2, ani 3, ani 5, ani 7 a ani 11.\n",
      " 43 je větší než nula a není dělitelné ani 2, ani 3, ani 5, ani 7 a ani 11.\n",
      " 47 je větší než nula a není dělitelné ani 2, ani 3, ani 5, ani 7 a ani 11.\n",
      " 53 je větší než nula a není dělitelné ani 2, ani 3, ani 5, ani 7 a ani 11.\n",
      " 59 je větší než nula a není dělitelné ani 2, ani 3, ani 5, ani 7 a ani 11.\n",
      " 61 je větší než nula a není dělitelné ani 2, ani 3, ani 5, ani 7 a ani 11.\n",
      " 67 je větší než nula a není dělitelné ani 2, ani 3, ani 5, ani 7 a ani 11.\n",
      " 71 je větší než nula a není dělitelné ani 2, ani 3, ani 5, ani 7 a ani 11.\n",
      " 73 je větší než nula a není dělitelné ani 2, ani 3, ani 5, ani 7 a ani 11.\n",
      " 79 je větší než nula a není dělitelné ani 2, ani 3, ani 5, ani 7 a ani 11.\n",
      " 83 je větší než nula a není dělitelné ani 2, ani 3, ani 5, ani 7 a ani 11.\n",
      " 89 je větší než nula a není dělitelné ani 2, ani 3, ani 5, ani 7 a ani 11.\n",
      " 97 je větší než nula a není dělitelné ani 2, ani 3, ani 5, ani 7 a ani 11.\n",
      "101 je větší než nula a není dělitelné ani 2, ani 3, ani 5, ani 7 a ani 11.\n"
     ]
    }
   ],
   "source": [
    "cisla = range(102)\n",
    "pocet_cislic = ...\n",
    "for i in cisla:\n",
    "    if i <= 0:\n",
    "        pass\n",
    "    elif not i % 2:\n",
    "        pass\n",
    "    elif not i % 3:\n",
    "        pass\n",
    "    elif not i % 5:\n",
    "        pass\n",
    "    elif not i % 7:\n",
    "        pass\n",
    "    elif not i % 11:\n",
    "        pass\n",
    "    else:\n",
    "        print(f'{i:3} je větší než nula a není dělitelné ani 2, ani 3, ani 5, ani 7 a ani 11.')"
   ]
  },
  {
   "cell_type": "code",
   "execution_count": 18,
   "metadata": {},
   "outputs": [
    {
     "data": {
      "text/plain": [
       "9"
      ]
     },
     "execution_count": 18,
     "metadata": {},
     "output_type": "execute_result"
    }
   ],
   "source": [
    "import random\n",
    "\n",
    "x = [random.choice(range(1000)) for _ in range(1000)]\n",
    "cislo_jedno_vazne_jedno = 785467529\n",
    "pocet_cifer = len(str(cislo_jedno_vazne_jedno))\n",
    "pocet_cifer"
   ]
  },
  {
   "cell_type": "markdown",
   "metadata": {},
   "source": [
    "### Základy funkce"
   ]
  },
  {
   "cell_type": "markdown",
   "metadata": {},
   "source": [
    "- využívá se klíčové slovo *def*"
   ]
  },
  {
   "cell_type": "code",
   "execution_count": 21,
   "metadata": {},
   "outputs": [],
   "source": [
    "def funkce():\n",
    "    print('Ahoj, já jsem procedura? Víš proč?')"
   ]
  },
  {
   "cell_type": "markdown",
   "metadata": {},
   "source": [
    "- vrací tato funkce něco?\n",
    "- proč se jí říká procedura?"
   ]
  },
  {
   "cell_type": "markdown",
   "metadata": {},
   "source": [
    "- pro vrácení hodnot z funkce se používá klíčové slovo *return*"
   ]
  },
  {
   "cell_type": "code",
   "execution_count": 22,
   "metadata": {},
   "outputs": [],
   "source": [
    "def funkce():\n",
    "    return \"Už nejsem procedura!\""
   ]
  },
  {
   "cell_type": "markdown",
   "metadata": {},
   "source": [
    "- funkce můžu přijímat argumenty"
   ]
  },
  {
   "cell_type": "code",
   "execution_count": 23,
   "metadata": {},
   "outputs": [],
   "source": [
    "def druha_mocnina(cislo):\n",
    "    return cislo * cislo"
   ]
  },
  {
   "cell_type": "code",
   "execution_count": 24,
   "metadata": {},
   "outputs": [
    {
     "data": {
      "text/plain": [
       "100"
      ]
     },
     "execution_count": 24,
     "metadata": {},
     "output_type": "execute_result"
    }
   ],
   "source": [
    "druha_mocnina(10)"
   ]
  },
  {
   "cell_type": "code",
   "execution_count": 25,
   "metadata": {},
   "outputs": [],
   "source": [
    "def mocnina(cislo, exponent):\n",
    "    return cislo ** exponent"
   ]
  },
  {
   "cell_type": "code",
   "execution_count": 26,
   "metadata": {},
   "outputs": [
    {
     "data": {
      "text/plain": [
       "8"
      ]
     },
     "execution_count": 26,
     "metadata": {},
     "output_type": "execute_result"
    }
   ],
   "source": [
    "mocnina(2, 3)"
   ]
  },
  {
   "cell_type": "markdown",
   "metadata": {},
   "source": [
    "- implicitní hodnoty argumentů"
   ]
  },
  {
   "cell_type": "code",
   "execution_count": 30,
   "metadata": {},
   "outputs": [],
   "source": [
    "def mocnina(cislo, exponent=2):\n",
    "    return cislo ** exponent"
   ]
  },
  {
   "cell_type": "code",
   "execution_count": 28,
   "metadata": {},
   "outputs": [
    {
     "data": {
      "text/plain": [
       "4"
      ]
     },
     "execution_count": 28,
     "metadata": {},
     "output_type": "execute_result"
    }
   ],
   "source": [
    "mocnina(2)"
   ]
  },
  {
   "cell_type": "code",
   "execution_count": 31,
   "metadata": {},
   "outputs": [
    {
     "data": {
      "text/plain": [
       "8"
      ]
     },
     "execution_count": 31,
     "metadata": {},
     "output_type": "execute_result"
    }
   ],
   "source": [
    "mocnina(2, 3)"
   ]
  },
  {
   "cell_type": "markdown",
   "metadata": {},
   "source": [
    "- proměnný počet argumentů"
   ]
  },
  {
   "cell_type": "code",
   "execution_count": 32,
   "metadata": {},
   "outputs": [],
   "source": [
    "def soucet(*cisla):\n",
    "    return sum(list(cisla))"
   ]
  },
  {
   "cell_type": "code",
   "execution_count": 34,
   "metadata": {},
   "outputs": [
    {
     "data": {
      "text/plain": [
       "22"
      ]
     },
     "execution_count": 34,
     "metadata": {},
     "output_type": "execute_result"
    }
   ],
   "source": [
    "soucet(1, 2, 3, 4, 5, 4, 3)"
   ]
  },
  {
   "cell_type": "code",
   "execution_count": 35,
   "metadata": {},
   "outputs": [],
   "source": [
    "def hezky_pozdrav(*jmena):\n",
    "    for jmeno in jmena:\n",
    "        print(f'Ahoj, {jmeno}!')"
   ]
  },
  {
   "cell_type": "code",
   "execution_count": 36,
   "metadata": {},
   "outputs": [
    {
     "name": "stdout",
     "output_type": "stream",
     "text": [
      "Ahoj, Jana!\n",
      "Ahoj, Jan!\n",
      "Ahoj, Eliška!\n",
      "Ahoj, Elišák!\n"
     ]
    }
   ],
   "source": [
    "hezky_pozdrav(\"Jana\", \"Jan\", \"Eliška\", \"Elišák\")"
   ]
  },
  {
   "cell_type": "markdown",
   "metadata": {},
   "source": [
    "- keyword argumenty"
   ]
  },
  {
   "cell_type": "code",
   "execution_count": 39,
   "metadata": {},
   "outputs": [],
   "source": [
    "from datetime import date\n",
    "\n",
    "def vypis_informace(nazev, datum=date.today(), misto=\"Neznamé\"):\n",
    "    print(f'Název: {nazev}')\n",
    "    print(f'Datum: {datum}')\n",
    "    print(f'Místo: {misto}')"
   ]
  },
  {
   "cell_type": "code",
   "execution_count": 44,
   "metadata": {},
   "outputs": [
    {
     "name": "stdout",
     "output_type": "stream",
     "text": [
      "Název: Pařba\n",
      "Datum: 2023-10-09\n",
      "Místo: Někde blízko\n"
     ]
    }
   ],
   "source": [
    "# místo bude \"Někde blízko\"\n",
    "vypis_informace(\"Pařba\", misto=\"Někde blízko\")"
   ]
  },
  {
   "cell_type": "markdown",
   "metadata": {},
   "source": [
    "- dokumentační řetězce ve funkcích"
   ]
  },
  {
   "cell_type": "code",
   "execution_count": 51,
   "metadata": {},
   "outputs": [],
   "source": [
    "def funkce_vcetne_dokumentace(cislo: int) -> str:\n",
    "    \"\"\"Nic neumím, ale mám dokumentaci!\"\"\"\n",
    "    return str(cislo)"
   ]
  },
  {
   "cell_type": "code",
   "execution_count": 53,
   "metadata": {},
   "outputs": [
    {
     "data": {
      "text/plain": [
       "'3'"
      ]
     },
     "execution_count": 53,
     "metadata": {},
     "output_type": "execute_result"
    }
   ],
   "source": [
    "funkce_vcetne_dokumentace(3)"
   ]
  },
  {
   "cell_type": "code",
   "execution_count": 46,
   "metadata": {},
   "outputs": [
    {
     "data": {
      "text/plain": [
       "'Nic neumím, ale mám dokumentaci!'"
      ]
     },
     "execution_count": 46,
     "metadata": {},
     "output_type": "execute_result"
    }
   ],
   "source": [
    "funkce_vcetne_dokumentace.__doc__"
   ]
  },
  {
   "cell_type": "markdown",
   "metadata": {},
   "source": [
    "### try, except a finally"
   ]
  },
  {
   "cell_type": "markdown",
   "metadata": {},
   "source": [
    "- využíváme pro odchyt výjimek"
   ]
  },
  {
   "cell_type": "code",
   "execution_count": 54,
   "metadata": {},
   "outputs": [
    {
     "data": {
      "text/plain": [
       "'123 '"
      ]
     },
     "execution_count": 54,
     "metadata": {},
     "output_type": "execute_result"
    }
   ],
   "source": [
    "cislo = \"123 \"\n",
    "if cislo.isdigit():\n",
    "    cislo = int(cislo)\n",
    "\n",
    "cislo"
   ]
  },
  {
   "cell_type": "code",
   "execution_count": 55,
   "metadata": {},
   "outputs": [
    {
     "data": {
      "text/plain": [
       "123"
      ]
     },
     "execution_count": 55,
     "metadata": {},
     "output_type": "execute_result"
    }
   ],
   "source": [
    "cislo = \"123 \"\n",
    "try:\n",
    "    cislo = int(cislo)\n",
    "except ValueError:\n",
    "    pass\n",
    "\n",
    "cislo"
   ]
  },
  {
   "cell_type": "code",
   "execution_count": 57,
   "metadata": {},
   "outputs": [
    {
     "name": "stdout",
     "output_type": "stream",
     "text": [
      "Číslo bylo převedeno!\n",
      "Program skončil..\n"
     ]
    }
   ],
   "source": [
    "cislo = \"123\"\n",
    "try:\n",
    "    cislo = int(cislo)\n",
    "    print(\"Číslo bylo převedeno!\")\n",
    "except ValueError:\n",
    "    print(\"Číslo nebylo převedeno!\")\n",
    "finally:\n",
    "    print(\"Program skončil..\")\n",
    "    \n"
   ]
  },
  {
   "cell_type": "markdown",
   "metadata": {},
   "source": [
    "### with"
   ]
  },
  {
   "cell_type": "markdown",
   "metadata": {},
   "source": [
    "- pomocí `with` se pracuje s kontextovým manažerem "
   ]
  },
  {
   "cell_type": "code",
   "execution_count": 58,
   "metadata": {},
   "outputs": [],
   "source": [
    "f = open('file.txt', 'w')\n",
    "try:\n",
    "    for i in range(10):\n",
    "        f.write(str(i))\n",
    "finally:\n",
    "    f.close()"
   ]
  },
  {
   "cell_type": "code",
   "execution_count": 59,
   "metadata": {},
   "outputs": [],
   "source": [
    "with open('file.txt', 'w') as f:\n",
    "    for i in range(10):\n",
    "        f.write(str(i))"
   ]
  },
  {
   "cell_type": "code",
   "execution_count": 60,
   "metadata": {},
   "outputs": [
    {
     "name": "stdout",
     "output_type": "stream",
     "text": [
      "0123456789\n"
     ]
    }
   ],
   "source": [
    "for line in open('file.txt'):\n",
    "    print(line)"
   ]
  },
  {
   "cell_type": "markdown",
   "metadata": {},
   "source": [
    "### rekurzivní funkce"
   ]
  },
  {
   "cell_type": "markdown",
   "metadata": {},
   "source": [
    " - napište program, který rekurzivním voláním funkce sečte zadaná čísla v seznamu"
   ]
  },
  {
   "cell_type": "code",
   "execution_count": 87,
   "metadata": {},
   "outputs": [],
   "source": [
    "def rekurzivni_soucet(cisla: list) -> int:\n",
    "    if len(cisla) == 1:\n",
    "        return cisla[0]\n",
    "    else:\n",
    "        return cisla.pop() + rekurzivni_soucet(cisla)        "
   ]
  },
  {
   "cell_type": "code",
   "execution_count": 89,
   "metadata": {},
   "outputs": [
    {
     "data": {
      "text/plain": [
       "10"
      ]
     },
     "execution_count": 89,
     "metadata": {},
     "output_type": "execute_result"
    }
   ],
   "source": [
    "rekurzivni_soucet([1, 2, 3, 4])"
   ]
  },
  {
   "cell_type": "markdown",
   "metadata": {},
   "source": [
    "### Tipy"
   ]
  },
  {
   "cell_type": "markdown",
   "metadata": {},
   "source": [
    "- prohození (swap)"
   ]
  },
  {
   "cell_type": "code",
   "execution_count": 61,
   "metadata": {},
   "outputs": [
    {
     "data": {
      "text/plain": [
       "(1, 0)"
      ]
     },
     "execution_count": 61,
     "metadata": {},
     "output_type": "execute_result"
    }
   ],
   "source": [
    "a = 0\n",
    "b = 1\n",
    "\n",
    "a, b = b, a\n",
    "a, b"
   ]
  },
  {
   "cell_type": "markdown",
   "metadata": {},
   "source": [
    "- mroží operátor"
   ]
  },
  {
   "cell_type": "code",
   "execution_count": 63,
   "metadata": {},
   "outputs": [
    {
     "name": "stdout",
     "output_type": "stream",
     "text": [
      "Dnes myje nádobí Petr!\n",
      "Dnes se nadobí mýt nebude..\n"
     ]
    }
   ],
   "source": [
    "import random\n",
    "\n",
    "moznosti = [\"Petr\", \"Pavel\", None]\n",
    "\n",
    "\n",
    "if x := random.choice(moznosti):\n",
    "    print(f'Dnes myje nádobí {x}!')\n",
    "else:\n",
    "    print('Dnes se nadobí mýt nebude..')\n",
    "\n",
    "x = random.choice(moznosti)\n",
    "if x:\n",
    "    print(f'Dnes myje nádobí {x}!')\n",
    "else:\n",
    "    print('Dnes se nadobí mýt nebude..')"
   ]
  },
  {
   "cell_type": "code",
   "execution_count": 76,
   "metadata": {},
   "outputs": [
    {
     "data": {
      "text/plain": [
       "[[1, 2, 3], [4, 5, 6], [7, 8, 9]]"
      ]
     },
     "execution_count": 76,
     "metadata": {},
     "output_type": "execute_result"
    }
   ],
   "source": [
    "from copy import deepcopy\n",
    "\n",
    "x = [1, 2, 3]\n",
    "y = [4, 5, 6]\n",
    "z = [x, y, [7, 8, 9]]\n",
    "\n",
    "kopie = deepcopy(z)\n",
    "x[1] = 10\n",
    "kopie"
   ]
  },
  {
   "cell_type": "code",
   "execution_count": 85,
   "metadata": {},
   "outputs": [
    {
     "name": "stdout",
     "output_type": "stream",
     "text": [
      "720111222\n",
      "NENI\n",
      "NENI\n"
     ]
    }
   ],
   "source": [
    "lide = {\n",
    "       'Jana': {'cislo': 720111222},\n",
    "       'Aleš': {'cislo': 722111222},\n",
    "       'Jiřina': {'kancelar': 20}\n",
    "}\n",
    "\n",
    "if 'Jana' in lide:\n",
    "    if 'cislo' in lide['Jana']:\n",
    "        if '2' in lide['Jana']['cislo']:\n",
    "    print(lide['Jana']['cislo'])\n",
    "\n",
    "if 'Jana' in lide:\n",
    "    print(lide['Jana'].get('kancelar', \"NENI\"))\n",
    "\n",
    "if 'Jana' in lide:\n",
    "    print(lide.get('Jan').get('kancelar', \"NENI\"))"
   ]
  }
 ],
 "metadata": {
  "kernelspec": {
   "display_name": "Python 3 (ipykernel)",
   "language": "python",
   "name": "python3"
  },
  "language_info": {
   "codemirror_mode": {
    "name": "ipython",
    "version": 3
   },
   "file_extension": ".py",
   "mimetype": "text/x-python",
   "name": "python",
   "nbconvert_exporter": "python",
   "pygments_lexer": "ipython3",
   "version": "3.11.4"
  }
 },
 "nbformat": 4,
 "nbformat_minor": 4
}
