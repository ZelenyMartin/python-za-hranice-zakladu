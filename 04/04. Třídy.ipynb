{
 "cells": [
  {
   "cell_type": "markdown",
   "id": "c02579dc-f9c2-4814-a4de-bb8c3d32db6f",
   "metadata": {
    "editable": false,
    "slideshow": {
     "slide_type": ""
    },
    "tags": []
   },
   "source": [
    "Python: Za hranice základů\n",
    "---\n"
   ]
  },
  {
   "cell_type": "markdown",
   "id": "8540f357-9f1d-435f-9c1c-37820b7cf74e",
   "metadata": {
    "editable": false,
    "slideshow": {
     "slide_type": ""
    },
    "tags": []
   },
   "source": [
    "4. Třídy (16.10.2023)"
   ]
  },
  {
   "cell_type": "markdown",
   "id": "1ebaf1b2-33c2-43ea-b40d-d1ab2645e746",
   "metadata": {
    "editable": false,
    "slideshow": {
     "slide_type": ""
    },
    "tags": []
   },
   "source": [
    "# Třídy\n"
   ]
  },
  {
   "cell_type": "markdown",
   "id": "f0c976c2-6ef0-418f-b5bd-ca956ae75890",
   "metadata": {},
   "source": [
    "## Obecné pojmy"
   ]
  },
  {
   "cell_type": "markdown",
   "id": "fe79beb5-d18a-4ba6-8bbd-5dd7231d6df1",
   "metadata": {},
   "source": [
    "- reprezentace pomocí objektů - přiblížení reálného světa\n",
    "- třídy se pojmenovávají s velkým písmenem na začátku"
   ]
  },
  {
   "cell_type": "markdown",
   "id": "ed01ed93-64f4-420b-800d-b871d0cb4779",
   "metadata": {},
   "source": [
    "## Syntaxe"
   ]
  },
  {
   "cell_type": "markdown",
   "id": "508e539d-c1d2-48be-9440-799ea9e9e9e0",
   "metadata": {},
   "source": [
    "- třída se uvozuje klíčovým slovem `class`"
   ]
  },
  {
   "cell_type": "code",
   "execution_count": null,
   "id": "5f3ed058-9d6e-42bd-b020-08bd080ad79b",
   "metadata": {
    "editable": true,
    "slideshow": {
     "slide_type": ""
    },
    "tags": []
   },
   "outputs": [],
   "source": [
    "class VlastniTrida:\n",
    "    def vlastni_funkce_tridy(self):\n",
    "        print(\"Vlastní hláška vlastní funkce vlastní třídy!\")"
   ]
  },
  {
   "cell_type": "code",
   "execution_count": null,
   "id": "35846631-ccd4-42f2-bdec-755b461f09bc",
   "metadata": {
    "editable": true,
    "slideshow": {
     "slide_type": ""
    },
    "tags": []
   },
   "outputs": [],
   "source": [
    "# vytvoření instance třídy, neboli objektu\n",
    "muj_objekt = VlastniTrida()\n",
    "\n",
    "# volání metody třídy\n",
    "muj_objekt.vlastni_funkce_tridy()"
   ]
  },
  {
   "cell_type": "code",
   "execution_count": null,
   "id": "177e3ab5-a6c2-4fbb-9009-835b121298cb",
   "metadata": {
    "ExecuteTime": {
     "end_time": "2023-10-16T10:54:19.231528Z",
     "start_time": "2023-10-16T10:54:19.231528Z"
    },
    "editable": true,
    "slideshow": {
     "slide_type": ""
    },
    "tags": []
   },
   "outputs": [],
   "source": [
    "class Clovek:\n",
    "    def pozdrav(self):\n",
    "        print(\"Ahooooooj!\")"
   ]
  },
  {
   "cell_type": "markdown",
   "id": "44e60ef9-443b-45b7-9940-380a72f68394",
   "metadata": {},
   "source": [
    "## Atributy"
   ]
  },
  {
   "cell_type": "markdown",
   "id": "74723451-6d55-4d9f-b866-45f4a283de79",
   "metadata": {},
   "source": [
    "- u vlastních tříd je možné definovat vlastní atributy - nastavení atributu, stejně jako přístup k němu je pomocí tečky mezi proměnnou a atributem"
   ]
  },
  {
   "cell_type": "code",
   "execution_count": null,
   "id": "6634d65c-c26b-4308-b6ba-6170d584b0e7",
   "metadata": {},
   "outputs": [],
   "source": [
    "ales = Clovek()\n",
    "ales.jmeno = 'Aleš'\n",
    "\n",
    "eliska = Clovek()\n",
    "eliska.jmeno = 'Eliška'"
   ]
  },
  {
   "cell_type": "code",
   "execution_count": null,
   "id": "5e586ba9-b3a6-49ac-82ea-3a887321e1bc",
   "metadata": {},
   "outputs": [],
   "source": [
    "print(ales.jmeno)"
   ]
  },
  {
   "cell_type": "code",
   "execution_count": null,
   "id": "1ee19ef0-cd63-4184-adb2-4f9d1339807b",
   "metadata": {},
   "outputs": [],
   "source": [
    "print(eliska.jmeno)"
   ]
  },
  {
   "cell_type": "code",
   "execution_count": null,
   "id": "fb772235-43ae-4243-ad58-dd309a0eec22",
   "metadata": {},
   "outputs": [],
   "source": [
    "ales.pozdrav"
   ]
  },
  {
   "cell_type": "markdown",
   "id": "c8a97522-867e-4236-9cb0-ff0af5443b88",
   "metadata": {},
   "source": [
    "- co se stane, pokud atribut a metoda mají stejné jméno"
   ]
  },
  {
   "cell_type": "code",
   "execution_count": null,
   "id": "0e9fbaa7-8d44-425c-b83e-c9bd7f5fb2e1",
   "metadata": {},
   "outputs": [],
   "source": [
    "alexandr = Clovek()\n",
    "alexandr.pozdrav = \"Ahoj\"\n",
    "alexandr.pozdrav"
   ]
  },
  {
   "cell_type": "markdown",
   "id": "436eb7ef-5455-42fc-a7d7-a2e4b63e5d51",
   "metadata": {},
   "source": [
    "## Parametr *self*"
   ]
  },
  {
   "cell_type": "markdown",
   "id": "a4567502-c82a-4c06-ab58-007c70fb8bc6",
   "metadata": {},
   "source": [
    "- pomocí parametru *self* máme přístup k uvnitř metod přístup ke konkrétnímu objektu"
   ]
  },
  {
   "cell_type": "code",
   "execution_count": null,
   "id": "37d65b42-3109-4579-8c43-af9811285273",
   "metadata": {},
   "outputs": [],
   "source": [
    "class Clovek():\n",
    "    def predstav_se(self):\n",
    "        print(f\"Ahoj, já jsem {self.jmeno}.\")"
   ]
  },
  {
   "cell_type": "code",
   "execution_count": null,
   "id": "f8f39b2c-93d5-4124-929e-a86c6c8afb3d",
   "metadata": {},
   "outputs": [],
   "source": [
    "saxana = Clovek()\n",
    "saxana.jmeno = \"Saxana\"\n",
    "\n",
    "oldrich = Clovek()\n",
    "oldrich.jmeno = \"Oldřich\""
   ]
  },
  {
   "cell_type": "code",
   "execution_count": null,
   "id": "c68d49ef-82f8-4bce-86fa-7bc2a8fda002",
   "metadata": {},
   "outputs": [],
   "source": [
    "saxana.predstav_se()"
   ]
  },
  {
   "cell_type": "code",
   "execution_count": null,
   "id": "f9fcef35-122b-4075-a216-70538e19d5d9",
   "metadata": {},
   "outputs": [],
   "source": [
    "oldrich.predstav_se()"
   ]
  },
  {
   "cell_type": "markdown",
   "id": "44e50980-7702-4320-83da-417a3660a259",
   "metadata": {},
   "source": [
    "- po *self* mohou následovat i další parametry"
   ]
  },
  {
   "cell_type": "code",
   "execution_count": null,
   "id": "f9f7f0eb-1a8c-4c1c-8f34-1d6f527ec134",
   "metadata": {},
   "outputs": [],
   "source": [
    "class Clovek:\n",
    "    def pozdrav(self):\n",
    "        print(\"Ahooooooj!\")\n",
    "\n",
    "    def predstav_se(self):\n",
    "        print(f\"Ahoj, já jsem {self.jmeno}.\")\n",
    "\n",
    "    def libi_se(self, predmet):\n",
    "        print(f\"{self.jmeno} má rád {predmet}!\")"
   ]
  },
  {
   "cell_type": "code",
   "execution_count": null,
   "id": "425d9ef9-2995-46db-9f03-833536b8e4af",
   "metadata": {},
   "outputs": [],
   "source": [
    "libuse = Clovek()\n",
    "libuse.jmeno = \"Libuše\"\n",
    "libuse.libi_se(\"šachy\")"
   ]
  },
  {
   "cell_type": "markdown",
   "id": "9e700f1d-8dff-4eb7-9f4d-99d4eec3b57f",
   "metadata": {},
   "source": [
    "## Metoda *\\_\\_init\\_\\_*"
   ]
  },
  {
   "cell_type": "markdown",
   "id": "6d2efa9f-dd95-4e36-99a1-96316c7697f6",
   "metadata": {},
   "source": [
    "- zatím jsme vždy volali metodu, která pracovala se jménem až poté, co jsme jej definovali\n",
    "- co se ale stane, když nenastavíme jméno a zavoláme metodu, která s ním pracuje?"
   ]
  },
  {
   "cell_type": "code",
   "execution_count": null,
   "id": "35970dd1-3fa8-4234-a0c1-cd6a17d5b3a5",
   "metadata": {},
   "outputs": [],
   "source": [
    "gustav = Clovek()"
   ]
  },
  {
   "cell_type": "code",
   "execution_count": null,
   "id": "d2df96de-9128-4baf-b68b-d30d7ce798d5",
   "metadata": {},
   "outputs": [],
   "source": [
    "gustav.predstav_se()"
   ]
  },
  {
   "cell_type": "markdown",
   "id": "71bbf958-b672-46e2-9656-11c3186d7aa5",
   "metadata": {},
   "source": [
    "- při vytváření lze vynutit, aby bylo jméno vždy nastaveno\n",
    "- dosáhneme toho právě pomocí metody *\\_\\_init\\_\\_*"
   ]
  },
  {
   "cell_type": "code",
   "execution_count": null,
   "id": "6888c4e6-467a-49f2-a3d3-89a7e79a6cd4",
   "metadata": {},
   "outputs": [],
   "source": [
    "class Clovek:\n",
    "    def __init__(self, jmeno):\n",
    "        self.jmeno = jmeno\n",
    "        \n",
    "    def pozdrav(self):\n",
    "        print(\"Ahooooooj!\")\n",
    "\n",
    "    def predstav_se(self):\n",
    "        print(f\"Ahoj, já jsem {self.jmeno}.\")\n",
    "\n",
    "    def libi_se(self, predmet):\n",
    "        print(f\"{self.jmeno} má rád {predmet}!\")"
   ]
  },
  {
   "cell_type": "markdown",
   "id": "fa1cc314-3205-472a-bc6c-4d1f9fc811a3",
   "metadata": {},
   "source": [
    "- vyzkoušejme si vytvořit novou instanci třídy"
   ]
  },
  {
   "cell_type": "code",
   "execution_count": null,
   "id": "151bfc7b-26df-4b19-8d7e-f492b8960b27",
   "metadata": {},
   "outputs": [],
   "source": [
    "lada = Clovek()"
   ]
  },
  {
   "cell_type": "code",
   "execution_count": null,
   "id": "f2e26ddf-c580-452e-a625-eb8f86ee774c",
   "metadata": {},
   "outputs": [],
   "source": [
    "ludmila = Clovek('Ludmila')"
   ]
  },
  {
   "cell_type": "code",
   "execution_count": null,
   "id": "f3364825-c368-4fd4-bff0-10709659e6f9",
   "metadata": {},
   "outputs": [],
   "source": [
    "bohdana = Clovek(jmeno='Bohdana')"
   ]
  },
  {
   "cell_type": "markdown",
   "id": "ee9464b1-6819-44b3-87fe-c741bd100fe3",
   "metadata": {},
   "source": [
    "## Metoda *\\_\\_str\\_\\_*"
   ]
  },
  {
   "cell_type": "markdown",
   "id": "1afc3d8e-95a5-4195-b248-d6a78d83f067",
   "metadata": {},
   "source": [
    "- další speciální a užitečná metoda\n",
    "- zavolá se, pokud je objekt potřeba převést na řetězec"
   ]
  },
  {
   "cell_type": "code",
   "execution_count": null,
   "id": "4dec2913-828c-4997-8c1a-39264feeefc7",
   "metadata": {},
   "outputs": [],
   "source": [
    "class Clovek:\n",
    "    def __init__(self, jmeno):\n",
    "        self.jmeno = jmeno\n",
    "\n",
    "    def __str__(self):\n",
    "        return f'<Clovek jmenem {self.jmeno}>'\n",
    "        \n",
    "    def pozdrav(self):\n",
    "        print(\"Ahooooooj!\")\n",
    "\n",
    "    def predstav_se(self):\n",
    "        print(f\"Ahoj, já jsem {self.jmeno}.\")\n",
    "\n",
    "    def libi_se(self, predmet):\n",
    "        print(f\"{self.jmeno} má rád {predmet}!\")"
   ]
  },
  {
   "cell_type": "code",
   "execution_count": null,
   "id": "7c843a0d-422f-4903-9b53-c19438e8e66f",
   "metadata": {},
   "outputs": [],
   "source": [
    "richard = Clovek('Richard')"
   ]
  },
  {
   "cell_type": "code",
   "execution_count": null,
   "id": "7e0a91d6-9374-4d86-8722-abbeed7ecfb9",
   "metadata": {},
   "outputs": [],
   "source": [
    "print(richard)"
   ]
  },
  {
   "cell_type": "markdown",
   "id": "952024d1-b1db-4a69-aa07-82bb3c745852",
   "metadata": {},
   "source": [
    "## Metoda *\\_\\_doc\\_\\_*"
   ]
  },
  {
   "cell_type": "code",
   "execution_count": null,
   "id": "3defacfc-ada4-4e9d-8520-0325e5fcd9c9",
   "metadata": {},
   "outputs": [],
   "source": [
    "class Clovek:\n",
    "    def __init__(self, jmeno):\n",
    "        self.jmeno = jmeno\n",
    "\n",
    "    def __str__(self):\n",
    "        return f'<Clovek jmenem {self.jmeno}>'\n",
    "\n",
    "    def __doc__(self):\n",
    "            return f'Toto je človek typu Clovek, jehož jméno je {self.jmeno}'\n",
    "        \n",
    "    def pozdrav(self):\n",
    "        print(\"Ahooooooj!\")\n",
    "\n",
    "    def predstav_se(self):\n",
    "        print(f\"Ahoj, já jsem {self.jmeno}.\")\n",
    "\n",
    "    def libi_se(self, predmet):\n",
    "        print(f\"{self.jmeno} má rád {predmet}!\")"
   ]
  },
  {
   "cell_type": "code",
   "execution_count": null,
   "id": "415e2ed7-3def-45a3-9f2f-a0d40de97836",
   "metadata": {},
   "outputs": [],
   "source": [
    "alois = Clovek('Alois')"
   ]
  },
  {
   "cell_type": "code",
   "execution_count": null,
   "id": "97239aef-e1c1-4036-bd85-5955e163aa79",
   "metadata": {},
   "outputs": [],
   "source": [
    "alois.__doc__()"
   ]
  },
  {
   "cell_type": "markdown",
   "id": "d45c080f-c48f-42a6-93ab-6ed8565989ce",
   "metadata": {},
   "source": [
    "## Porovnávání"
   ]
  },
  {
   "cell_type": "markdown",
   "id": "7e8dffff-c753-4d1a-853d-884c2babebbb",
   "metadata": {},
   "source": [
    "- zavedeme si další proměnou s věkem člověka"
   ]
  },
  {
   "cell_type": "code",
   "execution_count": null,
   "id": "eb6356f3-c113-44ca-8d2d-8ec237b32261",
   "metadata": {},
   "outputs": [],
   "source": [
    "class Clovek:\n",
    "    def __init__(self, jmeno, vek):\n",
    "        self.jmeno = jmeno\n",
    "        self.vek = vek\n",
    "    \n",
    "    def __str__(self):\n",
    "        return f'<Clovek jmenem {self.jmeno}>'\n",
    "\n",
    "    def __doc__(self):\n",
    "            return f'Toto je človek typu Clovek, jehož jméno je {self.jmeno}'\n",
    "\n",
    "    def __eq__(self, dalsi_clovek):\n",
    "        if isinstance(dalsi_clovek, Clovek):\n",
    "            return self.vek == dalsi_clovek.vek\n",
    "        return False\n",
    "\n",
    "    def __qt__():\n",
    "        ...\n",
    "    \n",
    "    def __qe__():\n",
    "        ...\n",
    "    \n",
    "    def __lt__():\n",
    "        ...\n",
    "    \n",
    "    def __lq__():\n",
    "        ...\n",
    "    \n",
    "    def pozdrav(self):\n",
    "        print(\"Ahooooooj!\")\n",
    "\n",
    "    def predstav_se(self):\n",
    "        print(f\"Ahoj, já jsem {self.jmeno}.\")\n",
    "\n",
    "    def libi_se(self, predmet):\n",
    "        print(f\"{self.jmeno} má rád {predmet}!\")"
   ]
  },
  {
   "cell_type": "code",
   "execution_count": null,
   "id": "aebbc012-9f89-4a5a-be2c-33cde81d26b4",
   "metadata": {},
   "outputs": [],
   "source": [
    "filip = Clovek(\"Filip\", 30)\n",
    "eduard = Clovek(\"Eduard\", 30)"
   ]
  },
  {
   "cell_type": "code",
   "execution_count": null,
   "id": "b54560dd-73c8-418f-a1a3-065a9436d278",
   "metadata": {},
   "outputs": [],
   "source": [
    "filip == eduard"
   ]
  },
  {
   "cell_type": "markdown",
   "id": "7d037779-6a22-4b50-976b-f2367dae7123",
   "metadata": {},
   "source": [
    "## Dědičnost"
   ]
  },
  {
   "cell_type": "code",
   "execution_count": null,
   "id": "19473e03-db84-4f8e-9c5f-1b3af582c9bd",
   "metadata": {},
   "outputs": [],
   "source": [
    "class Clovek:\n",
    "    def __init__(self, jmeno, vek):\n",
    "        self.jmeno = jmeno\n",
    "        self.vek = vek\n",
    "\n",
    "    def pozdrav(self):\n",
    "        print(\"Ahooooooj!\")"
   ]
  },
  {
   "cell_type": "code",
   "execution_count": null,
   "id": "34f0faf3-bb00-498a-87c4-1c6c9ce47bea",
   "metadata": {},
   "outputs": [],
   "source": [
    "class Pracovnik(Clovek):\n",
    "    def pozdrav(self):\n",
    "        print(\"Čest práci!\")"
   ]
  },
  {
   "cell_type": "code",
   "execution_count": null,
   "id": "115f8fe8-e7cf-431d-aea9-58ea95001ee3",
   "metadata": {},
   "outputs": [],
   "source": [
    "jiri = Pracovnik('Jiří', 20)"
   ]
  },
  {
   "cell_type": "code",
   "execution_count": null,
   "id": "696bd1c2-398c-43be-9ec9-7fe39915036a",
   "metadata": {},
   "outputs": [],
   "source": [
    "jiri.pozdrav()"
   ]
  },
  {
   "cell_type": "markdown",
   "id": "09eff3dd-98bb-45e3-a8ab-7af99b0fd4df",
   "metadata": {},
   "source": [
    "- pokud chceme přidat proměnnou do metody *\\_\\_init\\_\\_*, celé se nám to trochu zkomplikuje"
   ]
  },
  {
   "cell_type": "code",
   "execution_count": null,
   "id": "07bb16f8-1a52-4426-8ede-c365c14889a9",
   "metadata": {},
   "outputs": [],
   "source": [
    "class Pracovnik(Clovek):\n",
    "    def __init__(self, jmeno, vek, osobni_cislo):\n",
    "        super().__init__(jmeno, vek)\n",
    "        self.osobni_cislo = osobni_cislo\n",
    "        \n",
    "    def pozdrav(self):\n",
    "        print(\"Čest práci!\")"
   ]
  },
  {
   "cell_type": "code",
   "execution_count": null,
   "id": "b381f8c2-5bef-453f-95fb-1b224fa5ae4e",
   "metadata": {},
   "outputs": [],
   "source": [
    "dana = Pracovnik('Dana', 34, 13265)"
   ]
  },
  {
   "cell_type": "code",
   "execution_count": null,
   "id": "cd924dc6-0116-44e8-b064-4a1ad12ee091",
   "metadata": {},
   "outputs": [],
   "source": [
    "dana.pozdrav()"
   ]
  },
  {
   "cell_type": "code",
   "execution_count": null,
   "id": "5efc6546-7594-4fd7-9c10-253c2acaeced",
   "metadata": {},
   "outputs": [],
   "source": [
    "dana.osobni_cislo"
   ]
  },
  {
   "cell_type": "markdown",
   "id": "6b01ca40-08ff-45fd-a4b9-912d4fd303d2",
   "metadata": {},
   "source": [
    "## Polymorfismus"
   ]
  },
  {
   "cell_type": "code",
   "execution_count": null,
   "id": "91edef42-b80c-4568-8a94-01474b795140",
   "metadata": {},
   "outputs": [],
   "source": [
    "class Pracovnik(Clovek):\n",
    "    def __init__(self, jmeno, vek, osobni_cislo):\n",
    "        super().__init__(jmeno, vek)\n",
    "        self.osobni_cislo = osobni_cislo\n",
    "        \n",
    "    def pozdrav(self):\n",
    "        print(\"Čest práci!\")\n",
    "\n",
    "    def zarvi(self, text):\n",
    "        print(f'{text.upper()}!')"
   ]
  },
  {
   "cell_type": "code",
   "execution_count": null,
   "id": "c4b619dd-c9c7-44f8-ad73-1c71c059e7aa",
   "metadata": {},
   "outputs": [],
   "source": [
    "class Rentier(Clovek):\n",
    "    def __init__(self, jmeno, vek):\n",
    "        super().__init__(jmeno, vek)\n",
    "        \n",
    "    def pozdrav(self):\n",
    "        print(\"Už žádná práce!\")\n",
    "\n",
    "    def zaseptej(self, text):\n",
    "        print(f'{text.lower()}!')"
   ]
  },
  {
   "cell_type": "code",
   "execution_count": null,
   "id": "23da762b-6b94-4e97-b98b-9df00b5bcbbb",
   "metadata": {},
   "outputs": [],
   "source": [
    "for clovek in [Pracovnik(\"Dana\", 30, 13265), Rentier(\"Jíři\", 67)]:\n",
    "    print(clovek)\n",
    "    # clovek.pozdrav()\n",
    "    # print(clovek.vek)"
   ]
  },
  {
   "cell_type": "markdown",
   "id": "49ac0f86-cf36-477e-828b-4033163a5b6a",
   "metadata": {},
   "source": [
    "## Generalizace"
   ]
  },
  {
   "cell_type": "code",
   "execution_count": null,
   "id": "434bae82-e42a-45f7-9d72-8f05fb0661da",
   "metadata": {},
   "outputs": [],
   "source": [
    "- jak dosáhnout tohoto?"
   ]
  },
  {
   "cell_type": "code",
   "execution_count": null,
   "id": "50724fef-cb2f-4f96-91ad-923f9727d2a8",
   "metadata": {},
   "outputs": [],
   "source": [
    "for clovek in [Pracovnik(\"Dana\", 30, 13265), Rentier(\"Jíři\", 67)]:\n",
    "    ...\n",
    "    # když Pracovnik, tak clovek.zarvi(\"Aaauuuuu\"), když Rentier, tak clovek.zaseptej(\"Aaauuuuu\") "
   ]
  },
  {
   "cell_type": "markdown",
   "id": "1732e9ef-978b-4ca4-b3b5-f993d1392330",
   "metadata": {},
   "source": [
    "## Samostatná práce"
   ]
  },
  {
   "cell_type": "markdown",
   "id": "27e0a842-6a11-46b2-b8d0-07de6d558c4e",
   "metadata": {},
   "source": [
    "- vytvořte park dopravních prostředků"
   ]
  },
  {
   "cell_type": "markdown",
   "id": "33affaca-40b8-48a2-94c2-4ffb22748112",
   "metadata": {},
   "source": [
    "- vytvořte třídu DopravniProstredek, která bude mít obecné metody a atributy\n",
    "- vytvořte třídy (JízdniKolo, Automobil, Lod, Letadlo), které budou dědit od třídy DopravniProstredek\n",
    "- vhodně upravte atributy a metody v každé třídě"
   ]
  },
  {
   "cell_type": "markdown",
   "id": "82ae236f-0a10-48de-a005-8380ab4239d4",
   "metadata": {},
   "source": [
    "- využijte *\\_\\_init\\_\\_*, *\\_\\_str\\_\\_*, *\\_\\_doc\\_\\_*\n"
   ]
  },
  {
   "cell_type": "code",
   "execution_count": null,
   "id": "07e6951f-ca26-465f-9d9f-3cae80ff42cd",
   "metadata": {},
   "outputs": [],
   "source": []
  }
 ],
 "metadata": {
  "kernelspec": {
   "display_name": "Python 3 (ipykernel)",
   "language": "python",
   "name": "python3"
  },
  "language_info": {
   "codemirror_mode": {
    "name": "ipython",
    "version": 3
   },
   "file_extension": ".py",
   "mimetype": "text/x-python",
   "name": "python",
   "nbconvert_exporter": "python",
   "pygments_lexer": "ipython3",
   "version": "3.11.4"
  }
 },
 "nbformat": 4,
 "nbformat_minor": 5
}
