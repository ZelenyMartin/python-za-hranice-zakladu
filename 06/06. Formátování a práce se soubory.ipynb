{
 "cells": [
  {
   "cell_type": "markdown",
   "metadata": {
    "collapsed": false,
    "jupyter": {
     "outputs_hidden": false
    }
   },
   "source": [
    "Python: Za hranice základů\n",
    "---\n"
   ]
  },
  {
   "cell_type": "markdown",
   "metadata": {
    "collapsed": false,
    "jupyter": {
     "outputs_hidden": false
    }
   },
   "source": [
    "6. Formátování (06.11.2023)"
   ]
  },
  {
   "cell_type": "markdown",
   "metadata": {
    "ExecuteTime": {
     "end_time": "2023-11-06T10:04:18.205021900Z",
     "start_time": "2023-11-06T10:04:18.200670100Z"
    },
    "collapsed": false,
    "jupyter": {
     "outputs_hidden": false
    }
   },
   "source": [
    "## Formátování čísel"
   ]
  },
  {
   "cell_type": "markdown",
   "metadata": {},
   "source": [
    "- budeme využívat metodu `format` nebo f-string\n",
    "- k nastavení formátu používáme `:`"
   ]
  },
  {
   "cell_type": "markdown",
   "metadata": {},
   "source": [
    "Úprava počtu desetinných míst bude našim prvním cvičením. Zkusme se podívat na výpis pí."
   ]
  },
  {
   "cell_type": "code",
   "execution_count": 1,
   "metadata": {
    "ExecuteTime": {
     "end_time": "2023-11-06T13:02:19.342297900Z",
     "start_time": "2023-11-06T13:02:19.301772300Z"
    }
   },
   "outputs": [
    {
     "name": "stdout",
     "output_type": "stream",
     "text": [
      "Hodnota pí je 3.14.\n"
     ]
    }
   ],
   "source": [
    "# všichni tak nějak tušíme, že pí je 3.14, ale co když nám to úplně nestačí\n",
    "print(\"Hodnota pí je 3.14.\")"
   ]
  },
  {
   "cell_type": "code",
   "execution_count": 2,
   "metadata": {},
   "outputs": [],
   "source": [
    "from math import pi"
   ]
  },
  {
   "cell_type": "code",
   "execution_count": 23,
   "metadata": {},
   "outputs": [
    {
     "data": {
      "text/plain": [
       "3.141592653589793"
      ]
     },
     "execution_count": 23,
     "metadata": {},
     "output_type": "execute_result"
    }
   ],
   "source": [
    "pi"
   ]
  },
  {
   "cell_type": "code",
   "execution_count": 27,
   "metadata": {},
   "outputs": [
    {
     "name": "stdout",
     "output_type": "stream",
     "text": [
      "Hodnota pí je 3.141592653589793.\n"
     ]
    }
   ],
   "source": [
    "print(f\"Hodnota pí je {pi}.\")"
   ]
  },
  {
   "cell_type": "markdown",
   "metadata": {},
   "source": [
    "Najednou máme pí na 15 desetinných míst, ale co když je to moc? Nebo naopak málo?"
   ]
  },
  {
   "cell_type": "markdown",
   "metadata": {},
   "source": [
    "- hodnotu pro desetinné číslo můžeme formátovat přes `:.Xf`, kde X je číslo"
   ]
  },
  {
   "cell_type": "code",
   "execution_count": 6,
   "metadata": {},
   "outputs": [
    {
     "name": "stdout",
     "output_type": "stream",
     "text": [
      "Hodnota pí je 3.14.\n"
     ]
    }
   ],
   "source": [
    "print(f\"Hodnota pí je {pi:.2f}.\")"
   ]
  },
  {
   "cell_type": "code",
   "execution_count": 36,
   "metadata": {},
   "outputs": [
    {
     "name": "stdout",
     "output_type": "stream",
     "text": [
      "Hodnota pí je 3.14159265358979311600.\n"
     ]
    }
   ],
   "source": [
    "print(f\"Hodnota pí je {pi:.20f}.\")"
   ]
  },
  {
   "cell_type": "markdown",
   "metadata": {},
   "source": [
    "### Příklad"
   ]
  },
  {
   "cell_type": "markdown",
   "metadata": {},
   "source": [
    "Napiště program, který z uživatelského vstupu načte dvě čísla, vydělí je mezi sebou a vysledek vypíše na 8 desetinných míst. Ošetřete uživatelský vstup, aby přijímal pouze čísla."
   ]
  },
  {
   "cell_type": "code",
   "execution_count": null,
   "metadata": {},
   "outputs": [],
   "source": [
    "# místo pro příklad"
   ]
  },
  {
   "cell_type": "markdown",
   "metadata": {},
   "source": [
    "Desetinnou část čísla už není umíme nastavit, ale co když budeme chtít nastavit místo pro celé číslo?"
   ]
  },
  {
   "cell_type": "code",
   "execution_count": 59,
   "metadata": {},
   "outputs": [
    {
     "name": "stdout",
     "output_type": "stream",
     "text": [
      "Hodnota pí je 3.14.\n",
      "Hodnota pí je 3.14.\n",
      "Hodnota pí je   3.14.\n",
      "Hodnota pí je   3.1416.\n"
     ]
    }
   ],
   "source": [
    "print(f\"Hodnota pí je {pi:1.2f}.\")\n",
    "print(f\"Hodnota pí je {pi:4.2f}.\")\n",
    "print(f\"Hodnota pí je {pi:6.2f}.\")\n",
    "print(f\"Hodnota pí je {pi:8.4f}.\")"
   ]
  },
  {
   "cell_type": "markdown",
   "metadata": {},
   "source": [
    "Všimněte si, že číslo se, i když zadáme menší hodnotu, než je číslo s desetinnou částu, nikdy nezkracuje."
   ]
  },
  {
   "cell_type": "markdown",
   "metadata": {},
   "source": [
    "A když už je mezera delší než je číslo, je možné číslo zarovnat (vpravo, na střed, doleva)."
   ]
  },
  {
   "cell_type": "code",
   "execution_count": 64,
   "metadata": {},
   "outputs": [
    {
     "name": "stdout",
     "output_type": "stream",
     "text": [
      "Hodnota pí je 123.46   .\n"
     ]
    }
   ],
   "source": [
    "print(f\"Hodnota pí je {123.456:<9.2f}.\")"
   ]
  },
  {
   "cell_type": "code",
   "execution_count": 65,
   "metadata": {},
   "outputs": [
    {
     "name": "stdout",
     "output_type": "stream",
     "text": [
      "Hodnota pí je  123.46  .\n"
     ]
    }
   ],
   "source": [
    "print(f\"Hodnota pí je {123.456:^9.2f}.\")"
   ]
  },
  {
   "cell_type": "code",
   "execution_count": 66,
   "metadata": {},
   "outputs": [
    {
     "name": "stdout",
     "output_type": "stream",
     "text": [
      "Hodnota pí je    123.46.\n"
     ]
    }
   ],
   "source": [
    "print(f\"Hodnota pí je {123.456:>9.2f}.\")"
   ]
  },
  {
   "cell_type": "code",
   "execution_count": 69,
   "metadata": {},
   "outputs": [
    {
     "name": "stdout",
     "output_type": "stream",
     "text": [
      "Hodnota pí je  123.46  .\n"
     ]
    }
   ],
   "source": [
    "print(f\"Hodnota pí je {123.456:^9.2f}.\")"
   ]
  },
  {
   "cell_type": "markdown",
   "metadata": {},
   "source": [
    "### Příklad"
   ]
  },
  {
   "cell_type": "markdown",
   "metadata": {},
   "source": [
    "Napište příklad, který od uživatele převezme celočíselný vstup a vypíše číselnou \"pyramidu\" vysokou (počet řádků) podle uvedeného vstupu."
   ]
  },
  {
   "cell_type": "markdown",
   "metadata": {},
   "source": [
    "- nejnižší obtížnost:"
   ]
  },
  {
   "cell_type": "raw",
   "metadata": {},
   "source": [
    "Pro číslo 4:\n",
    "1\n",
    "11\n",
    "111\n",
    "1111"
   ]
  },
  {
   "cell_type": "markdown",
   "metadata": {},
   "source": [
    "- střední obtížnost:"
   ]
  },
  {
   "cell_type": "raw",
   "metadata": {},
   "source": [
    "Pro číslo 4:\n",
    "   1\n",
    "  111\n",
    " 11111\n",
    "1111111"
   ]
  },
  {
   "cell_type": "markdown",
   "metadata": {},
   "source": [
    "- vyšší obtížnost:"
   ]
  },
  {
   "cell_type": "raw",
   "metadata": {},
   "source": [
    "Pro číslo 4:\n",
    "   1\n",
    "  1 1\n",
    " 1 1 1\n",
    "1 1 1 1"
   ]
  },
  {
   "cell_type": "markdown",
   "metadata": {},
   "source": [
    "- nejvyšší obtížnost (tzv. Pascalův thojúhelník):"
   ]
  },
  {
   "cell_type": "raw",
   "metadata": {},
   "source": [
    "Pro číslo 4:\n",
    "   1\n",
    "  1 1\n",
    " 1 2 1\n",
    "1 3 3 1"
   ]
  },
  {
   "cell_type": "markdown",
   "metadata": {},
   "source": [
    "### Formátování celých čísel"
   ]
  },
  {
   "cell_type": "markdown",
   "metadata": {},
   "source": [
    "- využívá se obdobně, pouze misto `f` patří `d`"
   ]
  },
  {
   "cell_type": "code",
   "execution_count": 82,
   "metadata": {},
   "outputs": [
    {
     "name": "stdout",
     "output_type": "stream",
     "text": [
      "   4\n"
     ]
    }
   ],
   "source": [
    "print(f\"{4:4d}\")"
   ]
  },
  {
   "cell_type": "markdown",
   "metadata": {},
   "source": [
    "- co se stane, když zkusíme pomocí `d` naformátovat `f`"
   ]
  },
  {
   "cell_type": "code",
   "execution_count": 87,
   "metadata": {},
   "outputs": [
    {
     "ename": "ValueError",
     "evalue": "Unknown format code 'd' for object of type 'float'",
     "output_type": "error",
     "traceback": [
      "\u001B[1;31m---------------------------------------------------------------------------\u001B[0m",
      "\u001B[1;31mValueError\u001B[0m                                Traceback (most recent call last)",
      "Cell \u001B[1;32mIn[87], line 2\u001B[0m\n\u001B[0;32m      1\u001B[0m \u001B[38;5;66;03m# nejdřív mě spusť a potom oprav\u001B[39;00m\n\u001B[1;32m----> 2\u001B[0m \u001B[38;5;28mprint\u001B[39m(\u001B[38;5;124mf\u001B[39m\u001B[38;5;124m\"\u001B[39m\u001B[38;5;132;01m{\u001B[39;00mpi\u001B[38;5;132;01m:\u001B[39;00m\u001B[38;5;124m4d\u001B[39m\u001B[38;5;132;01m}\u001B[39;00m\u001B[38;5;124m\"\u001B[39m)\n",
      "\u001B[1;31mValueError\u001B[0m: Unknown format code 'd' for object of type 'float'"
     ]
    }
   ],
   "source": [
    "# nejdřív mě spusť a potom oprav\n",
    "print(f\"{pi:4d}\")"
   ]
  },
  {
   "cell_type": "markdown",
   "metadata": {},
   "source": [
    "## Formátování textu"
   ]
  },
  {
   "cell_type": "markdown",
   "metadata": {},
   "source": [
    "- formátování textu není už nijak složité\n",
    "- pro explicitní vyjádření formátování textu se využívá písmeno `s`"
   ]
  },
  {
   "cell_type": "code",
   "execution_count": 117,
   "metadata": {},
   "outputs": [
    {
     "name": "stdout",
     "output_type": "stream",
     "text": [
      "ahoj                \n"
     ]
    }
   ],
   "source": [
    "print(f\"{'ahoj':20}\")"
   ]
  },
  {
   "cell_type": "code",
   "execution_count": 118,
   "metadata": {},
   "outputs": [
    {
     "name": "stdout",
     "output_type": "stream",
     "text": [
      "        ahoj        \n"
     ]
    }
   ],
   "source": [
    "print(f\"{'ahoj':^20}\")"
   ]
  },
  {
   "cell_type": "markdown",
   "metadata": {},
   "source": [
    "## Doplňující znak"
   ]
  },
  {
   "cell_type": "markdown",
   "metadata": {},
   "source": [
    "- pokud máme víc místa, než zabírá text, nebo číslo, můžeme zvolit doplňující znak\n",
    "- musíme pamatovat, že je vždy třeba zvolit zarovnání"
   ]
  },
  {
   "cell_type": "code",
   "execution_count": 127,
   "metadata": {},
   "outputs": [
    {
     "name": "stdout",
     "output_type": "stream",
     "text": [
      "XXXXXXXXXXXXXXXXahoj\n"
     ]
    }
   ],
   "source": [
    "print(f\"{'ahoj':X>20}\")"
   ]
  },
  {
   "cell_type": "markdown",
   "metadata": {},
   "source": [
    "### Příklad"
   ]
  },
  {
   "cell_type": "markdown",
   "metadata": {},
   "source": [
    "- vytvořte program, který bude vypisovat zadaný text takovým způsobem, že vypíše (pro zjednodušení uvažujte malá písmena anglické abecedy):\n",
    "  - pro lehčí variantu vždy jedno další písmeno a doplní do konce řádku zbývající volná místa pismenem X\n",
    "  - pro těžší variantu vždy jedno další písmeno s tím, že nejprve doplní předchozí písmena v abecedě, než doplní správné písmeno"
   ]
  },
  {
   "cell_type": "raw",
   "metadata": {},
   "source": [
    "Ukázka výstupu lehčí varianty (vstup \"hello\")\n",
    "\n",
    "XXXXX\n",
    "hXXXX\n",
    "heXXX\n",
    "helXX\n",
    "hellX\n",
    "hello"
   ]
  },
  {
   "cell_type": "raw",
   "metadata": {},
   "source": [
    "Ukázka výstupu těžší varianty (vstup \"hello\")\n",
    "\n",
    "XXXXX\n",
    "aXXXX\n",
    "bXXXX\n",
    "cXXXX\n",
    ".XXXX\n",
    ".XXXX\n",
    "hXXXX\n",
    "haXXX\n",
    "hbXXX\n",
    "hcXXX\n",
    "hdXXX\n",
    "heXXX\n",
    "heaXX\n",
    ".\n",
    "."
   ]
  },
  {
   "cell_type": "code",
   "execution_count": null,
   "metadata": {},
   "outputs": [],
   "source": []
  }
 ],
 "metadata": {
  "kernelspec": {
   "display_name": "Python 3 (ipykernel)",
   "language": "python",
   "name": "python3"
  },
  "language_info": {
   "codemirror_mode": {
    "name": "ipython",
    "version": 3
   },
   "file_extension": ".py",
   "mimetype": "text/x-python",
   "name": "python",
   "nbconvert_exporter": "python",
   "pygments_lexer": "ipython3",
   "version": "3.11.4"
  }
 },
 "nbformat": 4,
 "nbformat_minor": 4
}
